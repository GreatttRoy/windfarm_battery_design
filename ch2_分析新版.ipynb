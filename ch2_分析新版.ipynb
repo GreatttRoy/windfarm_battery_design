{
 "cells": [
  {
   "cell_type": "code",
   "execution_count": 35,
   "metadata": {},
   "outputs": [],
   "source": [
    "import pandas as pd\n",
    "import numpy as np\n",
    "from datetime import datetime, timezone\n",
    "from tqdm import tqdm\n",
    "import matplotlib.pyplot as plt\n",
    "import seaborn as sns\n",
    "import plotly.express as px\n",
    "\n",
    "data_anly= pd.read_csv('data/data_cal.csv')"
   ]
  },
  {
   "cell_type": "markdown",
   "metadata": {},
   "source": [
    "## 数据列描述\n",
    "- Measured & Upscaled\t测量值\n",
    "- Most recent forecast 最近一个点的预测值\n",
    "- Monitored capacity\t运行容量\n",
    "- ShiftMeasured 测量值往后平移一个点（用于在同一行进行波动值计算）\n",
    "- Fluctuation15M 15分钟波动值\n",
    "- PredFluctuation15M 预测值的15分钟波动值\n",
    "- ShiftFluctuation15M 后移15分钟波动值（用于分析连续两次波动）\n"
   ]
  },
  {
   "cell_type": "code",
   "execution_count": 36,
   "metadata": {},
   "outputs": [
    {
     "data": {
      "text/html": [
       "<div>\n",
       "<style scoped>\n",
       "    .dataframe tbody tr th:only-of-type {\n",
       "        vertical-align: middle;\n",
       "    }\n",
       "\n",
       "    .dataframe tbody tr th {\n",
       "        vertical-align: top;\n",
       "    }\n",
       "\n",
       "    .dataframe thead th {\n",
       "        text-align: right;\n",
       "    }\n",
       "</style>\n",
       "<table border=\"1\" class=\"dataframe\">\n",
       "  <thead>\n",
       "    <tr style=\"text-align: right;\">\n",
       "      <th></th>\n",
       "      <th>Datetime</th>\n",
       "      <th>Measured &amp; Upscaled</th>\n",
       "      <th>Most recent forecast</th>\n",
       "      <th>Monitored capacity</th>\n",
       "      <th>ShiftMeasured</th>\n",
       "      <th>Fluctuation15M</th>\n",
       "      <th>PredFluctuation15M</th>\n",
       "      <th>ShiftFluctuation15M</th>\n",
       "      <th>abs_Fluctuation15M</th>\n",
       "      <th>above_line</th>\n",
       "    </tr>\n",
       "  </thead>\n",
       "  <tbody>\n",
       "    <tr>\n",
       "      <th>0</th>\n",
       "      <td>2022-01-01 00:00:00</td>\n",
       "      <td>1803.48</td>\n",
       "      <td>1881.52</td>\n",
       "      <td>2254.4</td>\n",
       "      <td>1803.48</td>\n",
       "      <td>0.00</td>\n",
       "      <td>78.04</td>\n",
       "      <td>0.00</td>\n",
       "      <td>0.00</td>\n",
       "      <td>-50.00</td>\n",
       "    </tr>\n",
       "    <tr>\n",
       "      <th>1</th>\n",
       "      <td>2022-01-01 00:15:00</td>\n",
       "      <td>1962.39</td>\n",
       "      <td>1855.50</td>\n",
       "      <td>2254.4</td>\n",
       "      <td>1803.48</td>\n",
       "      <td>158.91</td>\n",
       "      <td>52.02</td>\n",
       "      <td>0.00</td>\n",
       "      <td>158.91</td>\n",
       "      <td>108.91</td>\n",
       "    </tr>\n",
       "    <tr>\n",
       "      <th>2</th>\n",
       "      <td>2022-01-01 00:30:00</td>\n",
       "      <td>1801.63</td>\n",
       "      <td>1823.16</td>\n",
       "      <td>2254.4</td>\n",
       "      <td>1962.39</td>\n",
       "      <td>-160.76</td>\n",
       "      <td>-139.23</td>\n",
       "      <td>158.91</td>\n",
       "      <td>160.76</td>\n",
       "      <td>110.76</td>\n",
       "    </tr>\n",
       "    <tr>\n",
       "      <th>3</th>\n",
       "      <td>2022-01-01 00:45:00</td>\n",
       "      <td>1824.41</td>\n",
       "      <td>1795.96</td>\n",
       "      <td>2254.4</td>\n",
       "      <td>1801.63</td>\n",
       "      <td>22.78</td>\n",
       "      <td>-5.67</td>\n",
       "      <td>-160.76</td>\n",
       "      <td>22.78</td>\n",
       "      <td>-27.22</td>\n",
       "    </tr>\n",
       "    <tr>\n",
       "      <th>4</th>\n",
       "      <td>2022-01-01 01:00:00</td>\n",
       "      <td>1661.57</td>\n",
       "      <td>1779.28</td>\n",
       "      <td>2254.4</td>\n",
       "      <td>1824.41</td>\n",
       "      <td>-162.84</td>\n",
       "      <td>-45.13</td>\n",
       "      <td>22.78</td>\n",
       "      <td>162.84</td>\n",
       "      <td>112.84</td>\n",
       "    </tr>\n",
       "    <tr>\n",
       "      <th>...</th>\n",
       "      <td>...</td>\n",
       "      <td>...</td>\n",
       "      <td>...</td>\n",
       "      <td>...</td>\n",
       "      <td>...</td>\n",
       "      <td>...</td>\n",
       "      <td>...</td>\n",
       "      <td>...</td>\n",
       "      <td>...</td>\n",
       "      <td>...</td>\n",
       "    </tr>\n",
       "    <tr>\n",
       "      <th>35035</th>\n",
       "      <td>2022-12-31 22:45:00</td>\n",
       "      <td>2187.05</td>\n",
       "      <td>2133.89</td>\n",
       "      <td>2254.4</td>\n",
       "      <td>2177.33</td>\n",
       "      <td>9.72</td>\n",
       "      <td>-43.44</td>\n",
       "      <td>16.48</td>\n",
       "      <td>9.72</td>\n",
       "      <td>-40.28</td>\n",
       "    </tr>\n",
       "    <tr>\n",
       "      <th>35036</th>\n",
       "      <td>2022-12-31 23:00:00</td>\n",
       "      <td>2177.68</td>\n",
       "      <td>2123.49</td>\n",
       "      <td>2254.4</td>\n",
       "      <td>2187.05</td>\n",
       "      <td>-9.37</td>\n",
       "      <td>-63.56</td>\n",
       "      <td>9.72</td>\n",
       "      <td>9.37</td>\n",
       "      <td>-40.63</td>\n",
       "    </tr>\n",
       "    <tr>\n",
       "      <th>35037</th>\n",
       "      <td>2022-12-31 23:15:00</td>\n",
       "      <td>2180.85</td>\n",
       "      <td>2129.58</td>\n",
       "      <td>2254.4</td>\n",
       "      <td>2177.68</td>\n",
       "      <td>3.17</td>\n",
       "      <td>-48.10</td>\n",
       "      <td>-9.37</td>\n",
       "      <td>3.17</td>\n",
       "      <td>-46.83</td>\n",
       "    </tr>\n",
       "    <tr>\n",
       "      <th>35038</th>\n",
       "      <td>2022-12-31 23:30:00</td>\n",
       "      <td>2177.87</td>\n",
       "      <td>2147.49</td>\n",
       "      <td>2254.4</td>\n",
       "      <td>2180.85</td>\n",
       "      <td>-2.98</td>\n",
       "      <td>-33.36</td>\n",
       "      <td>3.17</td>\n",
       "      <td>2.98</td>\n",
       "      <td>-47.02</td>\n",
       "    </tr>\n",
       "    <tr>\n",
       "      <th>35039</th>\n",
       "      <td>2022-12-31 23:45:00</td>\n",
       "      <td>2162.12</td>\n",
       "      <td>2149.19</td>\n",
       "      <td>2254.4</td>\n",
       "      <td>2177.87</td>\n",
       "      <td>-15.75</td>\n",
       "      <td>0.00</td>\n",
       "      <td>-2.98</td>\n",
       "      <td>15.75</td>\n",
       "      <td>-34.25</td>\n",
       "    </tr>\n",
       "  </tbody>\n",
       "</table>\n",
       "<p>35040 rows × 10 columns</p>\n",
       "</div>"
      ],
      "text/plain": [
       "                  Datetime  Measured & Upscaled  Most recent forecast  \\\n",
       "0      2022-01-01 00:00:00              1803.48               1881.52   \n",
       "1      2022-01-01 00:15:00              1962.39               1855.50   \n",
       "2      2022-01-01 00:30:00              1801.63               1823.16   \n",
       "3      2022-01-01 00:45:00              1824.41               1795.96   \n",
       "4      2022-01-01 01:00:00              1661.57               1779.28   \n",
       "...                    ...                  ...                   ...   \n",
       "35035  2022-12-31 22:45:00              2187.05               2133.89   \n",
       "35036  2022-12-31 23:00:00              2177.68               2123.49   \n",
       "35037  2022-12-31 23:15:00              2180.85               2129.58   \n",
       "35038  2022-12-31 23:30:00              2177.87               2147.49   \n",
       "35039  2022-12-31 23:45:00              2162.12               2149.19   \n",
       "\n",
       "       Monitored capacity  ShiftMeasured  Fluctuation15M  PredFluctuation15M  \\\n",
       "0                  2254.4        1803.48            0.00               78.04   \n",
       "1                  2254.4        1803.48          158.91               52.02   \n",
       "2                  2254.4        1962.39         -160.76             -139.23   \n",
       "3                  2254.4        1801.63           22.78               -5.67   \n",
       "4                  2254.4        1824.41         -162.84              -45.13   \n",
       "...                   ...            ...             ...                 ...   \n",
       "35035              2254.4        2177.33            9.72              -43.44   \n",
       "35036              2254.4        2187.05           -9.37              -63.56   \n",
       "35037              2254.4        2177.68            3.17              -48.10   \n",
       "35038              2254.4        2180.85           -2.98              -33.36   \n",
       "35039              2254.4        2177.87          -15.75                0.00   \n",
       "\n",
       "       ShiftFluctuation15M  abs_Fluctuation15M  above_line  \n",
       "0                     0.00                0.00      -50.00  \n",
       "1                     0.00              158.91      108.91  \n",
       "2                   158.91              160.76      110.76  \n",
       "3                  -160.76               22.78      -27.22  \n",
       "4                    22.78              162.84      112.84  \n",
       "...                    ...                 ...         ...  \n",
       "35035                16.48                9.72      -40.28  \n",
       "35036                 9.72                9.37      -40.63  \n",
       "35037                -9.37                3.17      -46.83  \n",
       "35038                 3.17                2.98      -47.02  \n",
       "35039                -2.98               15.75      -34.25  \n",
       "\n",
       "[35040 rows x 10 columns]"
      ]
     },
     "execution_count": 36,
     "metadata": {},
     "output_type": "execute_result"
    }
   ],
   "source": [
    "data_anly['abs_Fluctuation15M'] = abs(data_anly['Fluctuation15M'])\n",
    "data_anly['above_line'] = data_anly['abs_Fluctuation15M'] - 50 \n",
    "data_anly"
   ]
  },
  {
   "cell_type": "code",
   "execution_count": 37,
   "metadata": {},
   "outputs": [],
   "source": [
    "# data_anly[data_anly['Fluctuation15M']*data_anly['PredFluctuation15M']>0]"
   ]
  },
  {
   "cell_type": "markdown",
   "metadata": {},
   "source": [
    "- 第一步，总体描述观察，对数据进行一个总体的描述\n",
    "- 第二步，对数据超出考核范围的进行描述（必要性）\n",
    "- 第三步，对数据类型进行分类\n",
    "-       一上一下（时移性；可行性：一上一下有多少，的差值有多大）\n",
    "-       多上or多下（考虑配储空间的必要性）\n",
    "-       多上的情况分布如何\n",
    "-       多上的情况功率求和值为多大（加起来超过储能容量的有多少）（考虑配储空间的必要性）\n",
    "- 第四步，对之前的结果进行季节性分类分析\n",
    "    （来说明现象出现的普适性，以及季节出现不同的差别）"
   ]
  },
  {
   "cell_type": "markdown",
   "metadata": {},
   "source": [
    "# 第一章，总体描述"
   ]
  },
  {
   "cell_type": "code",
   "execution_count": 38,
   "metadata": {},
   "outputs": [
    {
     "data": {
      "text/html": [
       "<div>\n",
       "<style scoped>\n",
       "    .dataframe tbody tr th:only-of-type {\n",
       "        vertical-align: middle;\n",
       "    }\n",
       "\n",
       "    .dataframe tbody tr th {\n",
       "        vertical-align: top;\n",
       "    }\n",
       "\n",
       "    .dataframe thead th {\n",
       "        text-align: right;\n",
       "    }\n",
       "</style>\n",
       "<table border=\"1\" class=\"dataframe\">\n",
       "  <thead>\n",
       "    <tr style=\"text-align: right;\">\n",
       "      <th></th>\n",
       "      <th>Measured &amp; Upscaled</th>\n",
       "      <th>Most recent forecast</th>\n",
       "      <th>Monitored capacity</th>\n",
       "      <th>ShiftMeasured</th>\n",
       "      <th>Fluctuation15M</th>\n",
       "      <th>PredFluctuation15M</th>\n",
       "      <th>ShiftFluctuation15M</th>\n",
       "      <th>abs_Fluctuation15M</th>\n",
       "      <th>above_line</th>\n",
       "    </tr>\n",
       "  </thead>\n",
       "  <tbody>\n",
       "    <tr>\n",
       "      <th>count</th>\n",
       "      <td>35040.000000</td>\n",
       "      <td>35040.000000</td>\n",
       "      <td>3.504000e+04</td>\n",
       "      <td>35040.000000</td>\n",
       "      <td>35040.000000</td>\n",
       "      <td>35040.000000</td>\n",
       "      <td>35040.000000</td>\n",
       "      <td>35040.000000</td>\n",
       "      <td>35040.000000</td>\n",
       "    </tr>\n",
       "    <tr>\n",
       "      <th>mean</th>\n",
       "      <td>758.354345</td>\n",
       "      <td>957.642837</td>\n",
       "      <td>2.254400e+03</td>\n",
       "      <td>758.344110</td>\n",
       "      <td>0.010235</td>\n",
       "      <td>199.299546</td>\n",
       "      <td>0.010685</td>\n",
       "      <td>40.860348</td>\n",
       "      <td>-9.139652</td>\n",
       "    </tr>\n",
       "    <tr>\n",
       "      <th>std</th>\n",
       "      <td>774.366215</td>\n",
       "      <td>771.504146</td>\n",
       "      <td>3.183277e-12</td>\n",
       "      <td>774.350031</td>\n",
       "      <td>75.455406</td>\n",
       "      <td>266.444217</td>\n",
       "      <td>75.455359</td>\n",
       "      <td>63.434239</td>\n",
       "      <td>63.434239</td>\n",
       "    </tr>\n",
       "    <tr>\n",
       "      <th>min</th>\n",
       "      <td>-8.530000</td>\n",
       "      <td>0.000000</td>\n",
       "      <td>2.254400e+03</td>\n",
       "      <td>-8.530000</td>\n",
       "      <td>-1142.340000</td>\n",
       "      <td>-1285.080000</td>\n",
       "      <td>-1142.340000</td>\n",
       "      <td>0.000000</td>\n",
       "      <td>-50.000000</td>\n",
       "    </tr>\n",
       "    <tr>\n",
       "      <th>25%</th>\n",
       "      <td>89.880000</td>\n",
       "      <td>243.040000</td>\n",
       "      <td>2.254400e+03</td>\n",
       "      <td>89.880000</td>\n",
       "      <td>-18.870000</td>\n",
       "      <td>10.457500</td>\n",
       "      <td>-18.870000</td>\n",
       "      <td>4.490000</td>\n",
       "      <td>-45.510000</td>\n",
       "    </tr>\n",
       "    <tr>\n",
       "      <th>50%</th>\n",
       "      <td>437.150000</td>\n",
       "      <td>775.880000</td>\n",
       "      <td>2.254400e+03</td>\n",
       "      <td>437.150000</td>\n",
       "      <td>-0.070000</td>\n",
       "      <td>126.420000</td>\n",
       "      <td>-0.070000</td>\n",
       "      <td>18.230000</td>\n",
       "      <td>-31.770000</td>\n",
       "    </tr>\n",
       "    <tr>\n",
       "      <th>75%</th>\n",
       "      <td>1406.982500</td>\n",
       "      <td>1726.882500</td>\n",
       "      <td>2.254400e+03</td>\n",
       "      <td>1406.982500</td>\n",
       "      <td>17.510000</td>\n",
       "      <td>334.495000</td>\n",
       "      <td>17.510000</td>\n",
       "      <td>50.850000</td>\n",
       "      <td>0.850000</td>\n",
       "    </tr>\n",
       "    <tr>\n",
       "      <th>max</th>\n",
       "      <td>2240.910000</td>\n",
       "      <td>2166.880000</td>\n",
       "      <td>2.254400e+03</td>\n",
       "      <td>2240.910000</td>\n",
       "      <td>1284.680000</td>\n",
       "      <td>1773.830000</td>\n",
       "      <td>1284.680000</td>\n",
       "      <td>1284.680000</td>\n",
       "      <td>1234.680000</td>\n",
       "    </tr>\n",
       "  </tbody>\n",
       "</table>\n",
       "</div>"
      ],
      "text/plain": [
       "       Measured & Upscaled  Most recent forecast  Monitored capacity  \\\n",
       "count         35040.000000          35040.000000        3.504000e+04   \n",
       "mean            758.354345            957.642837        2.254400e+03   \n",
       "std             774.366215            771.504146        3.183277e-12   \n",
       "min              -8.530000              0.000000        2.254400e+03   \n",
       "25%              89.880000            243.040000        2.254400e+03   \n",
       "50%             437.150000            775.880000        2.254400e+03   \n",
       "75%            1406.982500           1726.882500        2.254400e+03   \n",
       "max            2240.910000           2166.880000        2.254400e+03   \n",
       "\n",
       "       ShiftMeasured  Fluctuation15M  PredFluctuation15M  ShiftFluctuation15M  \\\n",
       "count   35040.000000    35040.000000        35040.000000         35040.000000   \n",
       "mean      758.344110        0.010235          199.299546             0.010685   \n",
       "std       774.350031       75.455406          266.444217            75.455359   \n",
       "min        -8.530000    -1142.340000        -1285.080000         -1142.340000   \n",
       "25%        89.880000      -18.870000           10.457500           -18.870000   \n",
       "50%       437.150000       -0.070000          126.420000            -0.070000   \n",
       "75%      1406.982500       17.510000          334.495000            17.510000   \n",
       "max      2240.910000     1284.680000         1773.830000          1284.680000   \n",
       "\n",
       "       abs_Fluctuation15M    above_line  \n",
       "count        35040.000000  35040.000000  \n",
       "mean            40.860348     -9.139652  \n",
       "std             63.434239     63.434239  \n",
       "min              0.000000    -50.000000  \n",
       "25%              4.490000    -45.510000  \n",
       "50%             18.230000    -31.770000  \n",
       "75%             50.850000      0.850000  \n",
       "max           1284.680000   1234.680000  "
      ]
     },
     "execution_count": 38,
     "metadata": {},
     "output_type": "execute_result"
    }
   ],
   "source": [
    "\n",
    "data_anly.describe().to_csv('ch2_data/计算数据总体描述.csv')\n",
    "data_anly.describe()"
   ]
  },
  {
   "cell_type": "code",
   "execution_count": 39,
   "metadata": {},
   "outputs": [
    {
     "data": {
      "text/html": [
       "<div>\n",
       "<style scoped>\n",
       "    .dataframe tbody tr th:only-of-type {\n",
       "        vertical-align: middle;\n",
       "    }\n",
       "\n",
       "    .dataframe tbody tr th {\n",
       "        vertical-align: top;\n",
       "    }\n",
       "\n",
       "    .dataframe thead th {\n",
       "        text-align: right;\n",
       "    }\n",
       "</style>\n",
       "<table border=\"1\" class=\"dataframe\">\n",
       "  <thead>\n",
       "    <tr style=\"text-align: right;\">\n",
       "      <th></th>\n",
       "      <th>Measured &amp; Upscaled</th>\n",
       "      <th>Most recent forecast</th>\n",
       "      <th>Monitored capacity</th>\n",
       "      <th>ShiftMeasured</th>\n",
       "      <th>Fluctuation15M</th>\n",
       "      <th>PredFluctuation15M</th>\n",
       "      <th>ShiftFluctuation15M</th>\n",
       "      <th>abs_Fluctuation15M</th>\n",
       "      <th>above_line</th>\n",
       "    </tr>\n",
       "  </thead>\n",
       "  <tbody>\n",
       "    <tr>\n",
       "      <th>count</th>\n",
       "      <td>8903.000000</td>\n",
       "      <td>8903.000000</td>\n",
       "      <td>8.903000e+03</td>\n",
       "      <td>8903.000000</td>\n",
       "      <td>8903.000000</td>\n",
       "      <td>8903.000000</td>\n",
       "      <td>8903.000000</td>\n",
       "      <td>8903.000000</td>\n",
       "      <td>8903.000000</td>\n",
       "    </tr>\n",
       "    <tr>\n",
       "      <th>mean</th>\n",
       "      <td>1072.380850</td>\n",
       "      <td>1334.945249</td>\n",
       "      <td>2.254400e+03</td>\n",
       "      <td>1070.701174</td>\n",
       "      <td>1.679677</td>\n",
       "      <td>264.244075</td>\n",
       "      <td>2.244650</td>\n",
       "      <td>118.516588</td>\n",
       "      <td>68.516588</td>\n",
       "    </tr>\n",
       "    <tr>\n",
       "      <th>std</th>\n",
       "      <td>607.636584</td>\n",
       "      <td>593.399779</td>\n",
       "      <td>2.501251e-11</td>\n",
       "      <td>608.488811</td>\n",
       "      <td>145.741190</td>\n",
       "      <td>305.747311</td>\n",
       "      <td>126.549375</td>\n",
       "      <td>84.826628</td>\n",
       "      <td>84.826628</td>\n",
       "    </tr>\n",
       "    <tr>\n",
       "      <th>min</th>\n",
       "      <td>-4.890000</td>\n",
       "      <td>0.000000</td>\n",
       "      <td>2.254400e+03</td>\n",
       "      <td>-5.310000</td>\n",
       "      <td>-1142.340000</td>\n",
       "      <td>-1285.080000</td>\n",
       "      <td>-823.630000</td>\n",
       "      <td>50.010000</td>\n",
       "      <td>0.010000</td>\n",
       "    </tr>\n",
       "    <tr>\n",
       "      <th>25%</th>\n",
       "      <td>545.200000</td>\n",
       "      <td>841.480000</td>\n",
       "      <td>2.254400e+03</td>\n",
       "      <td>543.450000</td>\n",
       "      <td>-90.035000</td>\n",
       "      <td>57.010000</td>\n",
       "      <td>-61.085000</td>\n",
       "      <td>66.730000</td>\n",
       "      <td>16.730000</td>\n",
       "    </tr>\n",
       "    <tr>\n",
       "      <th>50%</th>\n",
       "      <td>990.680000</td>\n",
       "      <td>1403.620000</td>\n",
       "      <td>2.254400e+03</td>\n",
       "      <td>989.300000</td>\n",
       "      <td>50.150000</td>\n",
       "      <td>231.490000</td>\n",
       "      <td>0.710000</td>\n",
       "      <td>90.800000</td>\n",
       "      <td>40.800000</td>\n",
       "    </tr>\n",
       "    <tr>\n",
       "      <th>75%</th>\n",
       "      <td>1617.185000</td>\n",
       "      <td>1878.620000</td>\n",
       "      <td>2.254400e+03</td>\n",
       "      <td>1619.955000</td>\n",
       "      <td>91.635000</td>\n",
       "      <td>444.155000</td>\n",
       "      <td>65.790000</td>\n",
       "      <td>137.960000</td>\n",
       "      <td>87.960000</td>\n",
       "    </tr>\n",
       "    <tr>\n",
       "      <th>max</th>\n",
       "      <td>2225.930000</td>\n",
       "      <td>2166.880000</td>\n",
       "      <td>2.254400e+03</td>\n",
       "      <td>2232.780000</td>\n",
       "      <td>1284.680000</td>\n",
       "      <td>1768.990000</td>\n",
       "      <td>1284.680000</td>\n",
       "      <td>1284.680000</td>\n",
       "      <td>1234.680000</td>\n",
       "    </tr>\n",
       "  </tbody>\n",
       "</table>\n",
       "</div>"
      ],
      "text/plain": [
       "       Measured & Upscaled  Most recent forecast  Monitored capacity  \\\n",
       "count          8903.000000           8903.000000        8.903000e+03   \n",
       "mean           1072.380850           1334.945249        2.254400e+03   \n",
       "std             607.636584            593.399779        2.501251e-11   \n",
       "min              -4.890000              0.000000        2.254400e+03   \n",
       "25%             545.200000            841.480000        2.254400e+03   \n",
       "50%             990.680000           1403.620000        2.254400e+03   \n",
       "75%            1617.185000           1878.620000        2.254400e+03   \n",
       "max            2225.930000           2166.880000        2.254400e+03   \n",
       "\n",
       "       ShiftMeasured  Fluctuation15M  PredFluctuation15M  ShiftFluctuation15M  \\\n",
       "count    8903.000000     8903.000000         8903.000000          8903.000000   \n",
       "mean     1070.701174        1.679677          264.244075             2.244650   \n",
       "std       608.488811      145.741190          305.747311           126.549375   \n",
       "min        -5.310000    -1142.340000        -1285.080000          -823.630000   \n",
       "25%       543.450000      -90.035000           57.010000           -61.085000   \n",
       "50%       989.300000       50.150000          231.490000             0.710000   \n",
       "75%      1619.955000       91.635000          444.155000            65.790000   \n",
       "max      2232.780000     1284.680000         1768.990000          1284.680000   \n",
       "\n",
       "       abs_Fluctuation15M   above_line  \n",
       "count         8903.000000  8903.000000  \n",
       "mean           118.516588    68.516588  \n",
       "std             84.826628    84.826628  \n",
       "min             50.010000     0.010000  \n",
       "25%             66.730000    16.730000  \n",
       "50%             90.800000    40.800000  \n",
       "75%            137.960000    87.960000  \n",
       "max           1284.680000  1234.680000  "
      ]
     },
     "execution_count": 39,
     "metadata": {},
     "output_type": "execute_result"
    }
   ],
   "source": [
    "data_anly[data_anly['abs_Fluctuation15M']>50].describe()\n"
   ]
  },
  {
   "cell_type": "code",
   "execution_count": 40,
   "metadata": {},
   "outputs": [
    {
     "data": {
      "image/png": "[encoded data removed]",
      "text/plain": [
       "<Figure size 800x600 with 1 Axes>"
      ]
     },
     "metadata": {},
     "output_type": "display_data"
    }
   ],
   "source": [
    "# data_anly['Fluctuation15M'].plot (kind='kde')\n",
    "\n",
    "\n",
    "# 设置图形风格\n",
    "sns.set(style=\"whitegrid\")\n",
    "\n",
    "# 绘制核密度估计图\n",
    "plt.figure(figsize=(8, 6))\n",
    "sns.kdeplot(data_anly['Fluctuation15M'], fill=True, color=\"r\", alpha=0.8)\n",
    "plt.rcParams['font.sans-serif']=['SimHei']\n",
    "plt.rcParams['axes.unicode_minus'] = False\n",
    "plt.title(\"波动值的核密度估计\",fontsize=20)\n",
    "plt.xlabel(\"波动值/MW\",fontsize=20)\n",
    "plt.ylabel(\"密度\",fontsize=20)\n",
    "plt.savefig('ch2_fig/波动值的核密度估计.png')\n",
    "plt.show()"
   ]
  },
  {
   "cell_type": "markdown",
   "metadata": {},
   "source": [
    "## 1.2 季节性分析"
   ]
  },
  {
   "cell_type": "code",
   "execution_count": 41,
   "metadata": {},
   "outputs": [
    {
     "data": {
      "image/png": "[encoded data removed]",
      "text/plain": [
       "<Figure size 1600x1200 with 4 Axes>"
      ]
     },
     "metadata": {},
     "output_type": "display_data"
    }
   ],
   "source": [
    "# 为了演示如何绘制4个子图展示不同季节的分布情况，我们首先创建季节列\n",
    "data_season = data_anly.copy()\n",
    "# 定义函数以根据月份划分季节\n",
    "def get_season(month):\n",
    "    if month in [3, 4, 5]:\n",
    "        return 'Spring'\n",
    "    elif month in [6, 7, 8]:\n",
    "        return 'Summer'\n",
    "    elif month in [9, 10, 11]:\n",
    "        return 'Autumn'\n",
    "    else:\n",
    "        return 'Winter'\n",
    "\n",
    "def get_season_chinese(season_str):\n",
    "    if season_str == 'Spring':\n",
    "        return '春季'\n",
    "    elif season_str == 'Summer':\n",
    "        return '夏季'\n",
    "    elif season_str == 'Autumn':\n",
    "        return '秋季'\n",
    "    elif season_str == 'Winter':\n",
    "        return '冬季'\n",
    "# 将Datetime列转换为datetime类型\n",
    "data_season['Datetime'] = pd.to_datetime(data_season['Datetime'])\n",
    "\n",
    "# 应用函数以创建新的季节列\n",
    "data_season['Season'] = data_season['Datetime'].dt.month.apply(get_season)\n",
    "\n",
    "# 设置图形风格\n",
    "sns.set(style=\"whitegrid\")\n",
    "\n",
    "# 创建一个 2x2 子图布局\n",
    "fig, axs = plt.subplots(2, 2, figsize=(16, 12))\n",
    "\n",
    "# 定义季节和对应的子图索引\n",
    "seasons = ['Spring', 'Summer', 'Autumn', 'Winter']\n",
    "axs_indices = [(0, 0), (0, 1), (1, 0), (1, 1)]\n",
    "\n",
    "plt.rcParams['font.sans-serif']=['SimHei']\n",
    "plt.rcParams['axes.unicode_minus'] = False\n",
    "\n",
    "for season, (i, j) in zip(seasons, axs_indices):\n",
    "    ax = axs[i, j]\n",
    "    season_data = data_season[data_season['Season'] == season]['Fluctuation15M']\n",
    "    season_str = get_season_chinese(season)\n",
    "    sns.kdeplot(season_data, ax=axs[i, j], fill=True, color=\"r\", alpha=0.8)\n",
    "    axs[i, j].set_xlabel(f\"{season_str}功率变化差/MW\",fontsize=20)\n",
    "    axs[i, j].set_ylabel(\"密度\",fontsize=20)\n",
    "    ax.grid(True, linestyle='--', linewidth=1, alpha=0.8)\n",
    "\n",
    "plt.savefig('ch2_fig/分季节分析季节波动值的核密度估计.png')\n",
    "\n",
    "plt.tight_layout()\n",
    "plt.show()"
   ]
  },
  {
   "cell_type": "code",
   "execution_count": 42,
   "metadata": {},
   "outputs": [
    {
     "name": "stderr",
     "output_type": "stream",
     "text": [
      "C:\\Users\\Great Roy\\AppData\\Local\\Temp\\ipykernel_31748\\510956378.py:11: FutureWarning: The frame.append method is deprecated and will be removed from pandas in a future version. Use pandas.concat instead.\n",
      "  season_stats = season_stats.append({'季节': season_str, '峰度': kurtosis, '偏度': skewness}, ignore_index=True)\n",
      "C:\\Users\\Great Roy\\AppData\\Local\\Temp\\ipykernel_31748\\510956378.py:11: FutureWarning: The frame.append method is deprecated and will be removed from pandas in a future version. Use pandas.concat instead.\n",
      "  season_stats = season_stats.append({'季节': season_str, '峰度': kurtosis, '偏度': skewness}, ignore_index=True)\n",
      "C:\\Users\\Great Roy\\AppData\\Local\\Temp\\ipykernel_31748\\510956378.py:11: FutureWarning: The frame.append method is deprecated and will be removed from pandas in a future version. Use pandas.concat instead.\n",
      "  season_stats = season_stats.append({'季节': season_str, '峰度': kurtosis, '偏度': skewness}, ignore_index=True)\n",
      "C:\\Users\\Great Roy\\AppData\\Local\\Temp\\ipykernel_31748\\510956378.py:11: FutureWarning: The frame.append method is deprecated and will be removed from pandas in a future version. Use pandas.concat instead.\n",
      "  season_stats = season_stats.append({'季节': season_str, '峰度': kurtosis, '偏度': skewness}, ignore_index=True)\n"
     ]
    },
    {
     "data": {
      "text/html": [
       "<div>\n",
       "<style scoped>\n",
       "    .dataframe tbody tr th:only-of-type {\n",
       "        vertical-align: middle;\n",
       "    }\n",
       "\n",
       "    .dataframe tbody tr th {\n",
       "        vertical-align: top;\n",
       "    }\n",
       "\n",
       "    .dataframe thead th {\n",
       "        text-align: right;\n",
       "    }\n",
       "</style>\n",
       "<table border=\"1\" class=\"dataframe\">\n",
       "  <thead>\n",
       "    <tr style=\"text-align: right;\">\n",
       "      <th></th>\n",
       "      <th>季节</th>\n",
       "      <th>峰度</th>\n",
       "      <th>偏度</th>\n",
       "    </tr>\n",
       "  </thead>\n",
       "  <tbody>\n",
       "    <tr>\n",
       "      <th>0</th>\n",
       "      <td>春季</td>\n",
       "      <td>34.365878</td>\n",
       "      <td>-0.157928</td>\n",
       "    </tr>\n",
       "    <tr>\n",
       "      <th>1</th>\n",
       "      <td>夏季</td>\n",
       "      <td>20.937695</td>\n",
       "      <td>-0.336440</td>\n",
       "    </tr>\n",
       "    <tr>\n",
       "      <th>2</th>\n",
       "      <td>秋季</td>\n",
       "      <td>14.615567</td>\n",
       "      <td>0.098531</td>\n",
       "    </tr>\n",
       "    <tr>\n",
       "      <th>3</th>\n",
       "      <td>冬季</td>\n",
       "      <td>11.667255</td>\n",
       "      <td>0.237298</td>\n",
       "    </tr>\n",
       "  </tbody>\n",
       "</table>\n",
       "</div>"
      ],
      "text/plain": [
       "   季节         峰度        偏度\n",
       "0  春季  34.365878 -0.157928\n",
       "1  夏季  20.937695 -0.336440\n",
       "2  秋季  14.615567  0.098531\n",
       "3  冬季  11.667255  0.237298"
      ]
     },
     "execution_count": 42,
     "metadata": {},
     "output_type": "execute_result"
    }
   ],
   "source": [
    "# 计算每个季节波动值的峰度和偏度，并以DataFrame形式输出\n",
    "\n",
    "# 初始化一个空的DataFrame用于存储结果\n",
    "season_stats = pd.DataFrame(columns=['季节', '峰度', '偏度'])\n",
    "\n",
    "for season in seasons:\n",
    "    season_data = data_season[data_season['Season'] == season]['Fluctuation15M']\n",
    "    season_str = get_season_chinese(season)\n",
    "    kurtosis = season_data.kurtosis()  # 计算峰度\n",
    "    skewness = season_data.skew()  # 计算偏度\n",
    "    season_stats = season_stats.append({'季节': season_str, '峰度': kurtosis, '偏度': skewness}, ignore_index=True)\n",
    "\n",
    "season_stats.to_csv('ch2_data/分季节分析季节波动值的核密度估计.csv',encoding='utf_8_sig')\n",
    "season_stats"
   ]
  },
  {
   "cell_type": "code",
   "execution_count": 43,
   "metadata": {},
   "outputs": [
    {
     "data": {
      "image/png": "[encoded data removed]",
      "text/plain": [
       "<Figure size 1000x600 with 1 Axes>"
      ]
     },
     "metadata": {},
     "output_type": "display_data"
    },
    {
     "data": {
      "image/png": "[encoded data removed]",
      "text/plain": [
       "<Figure size 1000x600 with 1 Axes>"
      ]
     },
     "metadata": {},
     "output_type": "display_data"
    },
    {
     "data": {
      "image/png": "[encoded data removed]",
      "text/plain": [
       "<Figure size 1000x600 with 1 Axes>"
      ]
     },
     "metadata": {},
     "output_type": "display_data"
    },
    {
     "data": {
      "image/png": "[encoded data removed]",
      "text/plain": [
       "<Figure size 1000x600 with 1 Axes>"
      ]
     },
     "metadata": {},
     "output_type": "display_data"
    }
   ],
   "source": [
    "# 调整代码，分别绘制并输出4张图片，每张图片显示一个季节的波动情况和基线\n",
    "\n",
    "# 重新设置图形风格\n",
    "sns.set(style=\"whitegrid\")\n",
    "\n",
    "# 定义季节和数据\n",
    "seasons = ['Spring', 'Summer', 'Autumn', 'Winter']\n",
    "\n",
    "for season in seasons:\n",
    "    season_data = data_season[data_season['Season'] == season].sort_values(by='Datetime')  # 确保数据按时间排序\n",
    "    season_str = get_season_chinese(season)\n",
    "    # 创建图形\n",
    "    plt.figure(figsize=(10, 6))\n",
    "    plt.plot(season_data['Datetime'], season_data['Fluctuation15M'], label=f\"{season_str}波动值\",marker='o', linestyle='-', markersize=4)\n",
    "    \n",
    "    # 添加基线\n",
    "    plt.axhline(50, color='orange', linestyle='--', label='上波动考核线')\n",
    "    plt.axhline(-50, color='red', linestyle='--', label='下波动考核线')\n",
    "\n",
    "    # 设置中文字体和负号显示问题\n",
    "    plt.rcParams['font.sans-serif'] = ['SimHei']\n",
    "    plt.rcParams['axes.unicode_minus'] = False\n",
    "\n",
    "    # plt.title(f\"{season_str}波动情况\")\n",
    "    plt.xlabel(\"日期时间\")\n",
    "    plt.ylabel(f\"{season_str}功率变化差(MW)\")\n",
    "    plt.legend()\n",
    "\n",
    "    # 设置x轴为日期时间格式\n",
    "    plt.gca().xaxis_date()\n",
    "    plt.gcf().autofmt_xdate()  # 自动调整日期显示的格式\n",
    "    plt.savefig(f'ch2_fig/{season_str}波动性超过考核分析.png')\n",
    "\n",
    "    # 显示图形\n",
    "    plt.show()\n",
    "    \n"
   ]
  },
  {
   "cell_type": "code",
   "execution_count": null,
   "metadata": {},
   "outputs": [],
   "source": []
  },
  {
   "cell_type": "markdown",
   "metadata": {},
   "source": [
    "- 画图改成全部中文，波动值要加单位"
   ]
  },
  {
   "cell_type": "markdown",
   "metadata": {},
   "source": [
    "- 需要添加峰度偏度分析"
   ]
  },
  {
   "cell_type": "markdown",
   "metadata": {},
   "source": [
    "- 波动值集中分布于-18.870000与17.510000之间"
   ]
  },
  {
   "cell_type": "code",
   "execution_count": 44,
   "metadata": {},
   "outputs": [
    {
     "name": "stdout",
     "output_type": "stream",
     "text": [
      "向上波动最大达到了风场容量的[0.56985451]\n",
      "向下波动最大达到了风场容量的[0.50671576]\n"
     ]
    }
   ],
   "source": [
    "upward_ratio = data_anly['Fluctuation15M'].max()/data_anly['Monitored capacity'].unique()\n",
    "downward_ratio = -data_anly['Fluctuation15M'].min()/data_anly['Monitored capacity'].unique()\n",
    "\n",
    "print(\"向上波动最大达到了风场容量的{0}\".format(upward_ratio))\n",
    "print(\"向下波动最大达到了风场容量的{0}\".format(downward_ratio))\n"
   ]
  },
  {
   "cell_type": "markdown",
   "metadata": {},
   "source": [
    "# 第二章，对波动进行分类分析"
   ]
  },
  {
   "cell_type": "markdown",
   "metadata": {},
   "source": [
    "向上统计\n",
    "- 第一步，统计超过考核的上波动\n",
    "- 第二步，统计超过考核的上波动的连续波动\n",
    "- 第三步，统计每天的超过考核的连续波动情况\n",
    "-  包含几次超过考核的连续波动，连续波动率越限值的求和值，超过考核的连续波动率最大值\n",
    "- 第四步，分季节统计平均每天多少次超过考核的连续波动，平均每天连续波动率越限值的求和值，超过考核的连续波动率最大值\n",
    "（分季节的意义，只是为了保证统计量不失普遍性）"
   ]
  },
  {
   "cell_type": "markdown",
   "metadata": {},
   "source": [
    "## 2.1 向上波动"
   ]
  },
  {
   "cell_type": "code",
   "execution_count": 45,
   "metadata": {},
   "outputs": [
    {
     "data": {
      "text/html": [
       "<div>\n",
       "<style scoped>\n",
       "    .dataframe tbody tr th:only-of-type {\n",
       "        vertical-align: middle;\n",
       "    }\n",
       "\n",
       "    .dataframe tbody tr th {\n",
       "        vertical-align: top;\n",
       "    }\n",
       "\n",
       "    .dataframe thead th {\n",
       "        text-align: right;\n",
       "    }\n",
       "</style>\n",
       "<table border=\"1\" class=\"dataframe\">\n",
       "  <thead>\n",
       "    <tr style=\"text-align: right;\">\n",
       "      <th></th>\n",
       "      <th>Datetime</th>\n",
       "      <th>Measured &amp; Upscaled</th>\n",
       "      <th>Most recent forecast</th>\n",
       "      <th>Monitored capacity</th>\n",
       "      <th>ShiftMeasured</th>\n",
       "      <th>Fluctuation15M</th>\n",
       "      <th>PredFluctuation15M</th>\n",
       "      <th>ShiftFluctuation15M</th>\n",
       "      <th>abs_Fluctuation15M</th>\n",
       "      <th>above_line</th>\n",
       "    </tr>\n",
       "  </thead>\n",
       "  <tbody>\n",
       "    <tr>\n",
       "      <th>1</th>\n",
       "      <td>2022-01-01 00:15:00</td>\n",
       "      <td>1962.39</td>\n",
       "      <td>1855.50</td>\n",
       "      <td>2254.4</td>\n",
       "      <td>1803.48</td>\n",
       "      <td>158.91</td>\n",
       "      <td>52.02</td>\n",
       "      <td>0.00</td>\n",
       "      <td>158.91</td>\n",
       "      <td>108.91</td>\n",
       "    </tr>\n",
       "    <tr>\n",
       "      <th>9</th>\n",
       "      <td>2022-01-01 02:15:00</td>\n",
       "      <td>1362.66</td>\n",
       "      <td>1529.81</td>\n",
       "      <td>2254.4</td>\n",
       "      <td>1295.70</td>\n",
       "      <td>66.96</td>\n",
       "      <td>234.11</td>\n",
       "      <td>15.76</td>\n",
       "      <td>66.96</td>\n",
       "      <td>16.96</td>\n",
       "    </tr>\n",
       "    <tr>\n",
       "      <th>10</th>\n",
       "      <td>2022-01-01 02:30:00</td>\n",
       "      <td>1487.22</td>\n",
       "      <td>1481.82</td>\n",
       "      <td>2254.4</td>\n",
       "      <td>1362.66</td>\n",
       "      <td>124.56</td>\n",
       "      <td>119.16</td>\n",
       "      <td>66.96</td>\n",
       "      <td>124.56</td>\n",
       "      <td>74.56</td>\n",
       "    </tr>\n",
       "    <tr>\n",
       "      <th>11</th>\n",
       "      <td>2022-01-01 02:45:00</td>\n",
       "      <td>1557.98</td>\n",
       "      <td>1433.83</td>\n",
       "      <td>2254.4</td>\n",
       "      <td>1487.22</td>\n",
       "      <td>70.76</td>\n",
       "      <td>-53.39</td>\n",
       "      <td>124.56</td>\n",
       "      <td>70.76</td>\n",
       "      <td>20.76</td>\n",
       "    </tr>\n",
       "    <tr>\n",
       "      <th>13</th>\n",
       "      <td>2022-01-01 03:15:00</td>\n",
       "      <td>1447.08</td>\n",
       "      <td>1416.29</td>\n",
       "      <td>2254.4</td>\n",
       "      <td>1312.72</td>\n",
       "      <td>134.36</td>\n",
       "      <td>103.57</td>\n",
       "      <td>-245.26</td>\n",
       "      <td>134.36</td>\n",
       "      <td>84.36</td>\n",
       "    </tr>\n",
       "    <tr>\n",
       "      <th>...</th>\n",
       "      <td>...</td>\n",
       "      <td>...</td>\n",
       "      <td>...</td>\n",
       "      <td>...</td>\n",
       "      <td>...</td>\n",
       "      <td>...</td>\n",
       "      <td>...</td>\n",
       "      <td>...</td>\n",
       "      <td>...</td>\n",
       "      <td>...</td>\n",
       "    </tr>\n",
       "    <tr>\n",
       "      <th>34962</th>\n",
       "      <td>2022-12-31 04:30:00</td>\n",
       "      <td>1457.07</td>\n",
       "      <td>1934.68</td>\n",
       "      <td>2254.4</td>\n",
       "      <td>1383.00</td>\n",
       "      <td>74.07</td>\n",
       "      <td>551.68</td>\n",
       "      <td>179.24</td>\n",
       "      <td>74.07</td>\n",
       "      <td>24.07</td>\n",
       "    </tr>\n",
       "    <tr>\n",
       "      <th>34963</th>\n",
       "      <td>2022-12-31 04:45:00</td>\n",
       "      <td>1639.72</td>\n",
       "      <td>2004.17</td>\n",
       "      <td>2254.4</td>\n",
       "      <td>1457.07</td>\n",
       "      <td>182.65</td>\n",
       "      <td>547.10</td>\n",
       "      <td>74.07</td>\n",
       "      <td>182.65</td>\n",
       "      <td>132.65</td>\n",
       "    </tr>\n",
       "    <tr>\n",
       "      <th>34964</th>\n",
       "      <td>2022-12-31 05:00:00</td>\n",
       "      <td>1977.24</td>\n",
       "      <td>2037.52</td>\n",
       "      <td>2254.4</td>\n",
       "      <td>1639.72</td>\n",
       "      <td>337.52</td>\n",
       "      <td>397.80</td>\n",
       "      <td>182.65</td>\n",
       "      <td>337.52</td>\n",
       "      <td>287.52</td>\n",
       "    </tr>\n",
       "    <tr>\n",
       "      <th>34965</th>\n",
       "      <td>2022-12-31 05:15:00</td>\n",
       "      <td>2034.27</td>\n",
       "      <td>2148.42</td>\n",
       "      <td>2254.4</td>\n",
       "      <td>1977.24</td>\n",
       "      <td>57.03</td>\n",
       "      <td>171.18</td>\n",
       "      <td>337.52</td>\n",
       "      <td>57.03</td>\n",
       "      <td>7.03</td>\n",
       "    </tr>\n",
       "    <tr>\n",
       "      <th>34968</th>\n",
       "      <td>2022-12-31 06:00:00</td>\n",
       "      <td>2136.78</td>\n",
       "      <td>2166.88</td>\n",
       "      <td>2254.4</td>\n",
       "      <td>2060.10</td>\n",
       "      <td>76.68</td>\n",
       "      <td>106.78</td>\n",
       "      <td>41.41</td>\n",
       "      <td>76.68</td>\n",
       "      <td>26.68</td>\n",
       "    </tr>\n",
       "  </tbody>\n",
       "</table>\n",
       "<p>4466 rows × 10 columns</p>\n",
       "</div>"
      ],
      "text/plain": [
       "                  Datetime  Measured & Upscaled  Most recent forecast  \\\n",
       "1      2022-01-01 00:15:00              1962.39               1855.50   \n",
       "9      2022-01-01 02:15:00              1362.66               1529.81   \n",
       "10     2022-01-01 02:30:00              1487.22               1481.82   \n",
       "11     2022-01-01 02:45:00              1557.98               1433.83   \n",
       "13     2022-01-01 03:15:00              1447.08               1416.29   \n",
       "...                    ...                  ...                   ...   \n",
       "34962  2022-12-31 04:30:00              1457.07               1934.68   \n",
       "34963  2022-12-31 04:45:00              1639.72               2004.17   \n",
       "34964  2022-12-31 05:00:00              1977.24               2037.52   \n",
       "34965  2022-12-31 05:15:00              2034.27               2148.42   \n",
       "34968  2022-12-31 06:00:00              2136.78               2166.88   \n",
       "\n",
       "       Monitored capacity  ShiftMeasured  Fluctuation15M  PredFluctuation15M  \\\n",
       "1                  2254.4        1803.48          158.91               52.02   \n",
       "9                  2254.4        1295.70           66.96              234.11   \n",
       "10                 2254.4        1362.66          124.56              119.16   \n",
       "11                 2254.4        1487.22           70.76              -53.39   \n",
       "13                 2254.4        1312.72          134.36              103.57   \n",
       "...                   ...            ...             ...                 ...   \n",
       "34962              2254.4        1383.00           74.07              551.68   \n",
       "34963              2254.4        1457.07          182.65              547.10   \n",
       "34964              2254.4        1639.72          337.52              397.80   \n",
       "34965              2254.4        1977.24           57.03              171.18   \n",
       "34968              2254.4        2060.10           76.68              106.78   \n",
       "\n",
       "       ShiftFluctuation15M  abs_Fluctuation15M  above_line  \n",
       "1                     0.00              158.91      108.91  \n",
       "9                    15.76               66.96       16.96  \n",
       "10                   66.96              124.56       74.56  \n",
       "11                  124.56               70.76       20.76  \n",
       "13                 -245.26              134.36       84.36  \n",
       "...                    ...                 ...         ...  \n",
       "34962               179.24               74.07       24.07  \n",
       "34963                74.07              182.65      132.65  \n",
       "34964               182.65              337.52      287.52  \n",
       "34965               337.52               57.03        7.03  \n",
       "34968                41.41               76.68       26.68  \n",
       "\n",
       "[4466 rows x 10 columns]"
      ]
     },
     "execution_count": 45,
     "metadata": {},
     "output_type": "execute_result"
    }
   ],
   "source": [
    "data_anly_upward = data_anly.copy()\n",
    "data_anly_upward = data_anly_upward[(data_anly_upward['Fluctuation15M'] >= 0)&(data_anly_upward['above_line']>0)]\n",
    "data_anly_upward.describe().to_csv('ch2_data/越限的向上波动值的总体描述.csv')\n",
    "data_anly_upward"
   ]
  },
  {
   "cell_type": "markdown",
   "metadata": {},
   "source": [
    "## 2.2 向下波动"
   ]
  },
  {
   "cell_type": "code",
   "execution_count": 46,
   "metadata": {},
   "outputs": [
    {
     "data": {
      "text/html": [
       "<div>\n",
       "<style scoped>\n",
       "    .dataframe tbody tr th:only-of-type {\n",
       "        vertical-align: middle;\n",
       "    }\n",
       "\n",
       "    .dataframe tbody tr th {\n",
       "        vertical-align: top;\n",
       "    }\n",
       "\n",
       "    .dataframe thead th {\n",
       "        text-align: right;\n",
       "    }\n",
       "</style>\n",
       "<table border=\"1\" class=\"dataframe\">\n",
       "  <thead>\n",
       "    <tr style=\"text-align: right;\">\n",
       "      <th></th>\n",
       "      <th>Datetime</th>\n",
       "      <th>Measured &amp; Upscaled</th>\n",
       "      <th>Most recent forecast</th>\n",
       "      <th>Monitored capacity</th>\n",
       "      <th>ShiftMeasured</th>\n",
       "      <th>Fluctuation15M</th>\n",
       "      <th>PredFluctuation15M</th>\n",
       "      <th>ShiftFluctuation15M</th>\n",
       "      <th>abs_Fluctuation15M</th>\n",
       "      <th>above_line</th>\n",
       "    </tr>\n",
       "  </thead>\n",
       "  <tbody>\n",
       "    <tr>\n",
       "      <th>2</th>\n",
       "      <td>2022-01-01 00:30:00</td>\n",
       "      <td>1801.63</td>\n",
       "      <td>1823.16</td>\n",
       "      <td>2254.4</td>\n",
       "      <td>1962.39</td>\n",
       "      <td>-160.76</td>\n",
       "      <td>-139.23</td>\n",
       "      <td>158.91</td>\n",
       "      <td>160.76</td>\n",
       "      <td>110.76</td>\n",
       "    </tr>\n",
       "    <tr>\n",
       "      <th>4</th>\n",
       "      <td>2022-01-01 01:00:00</td>\n",
       "      <td>1661.57</td>\n",
       "      <td>1779.28</td>\n",
       "      <td>2254.4</td>\n",
       "      <td>1824.41</td>\n",
       "      <td>-162.84</td>\n",
       "      <td>-45.13</td>\n",
       "      <td>22.78</td>\n",
       "      <td>162.84</td>\n",
       "      <td>112.84</td>\n",
       "    </tr>\n",
       "    <tr>\n",
       "      <th>5</th>\n",
       "      <td>2022-01-01 01:15:00</td>\n",
       "      <td>1537.71</td>\n",
       "      <td>1743.19</td>\n",
       "      <td>2254.4</td>\n",
       "      <td>1661.57</td>\n",
       "      <td>-123.86</td>\n",
       "      <td>81.62</td>\n",
       "      <td>-162.84</td>\n",
       "      <td>123.86</td>\n",
       "      <td>73.86</td>\n",
       "    </tr>\n",
       "    <tr>\n",
       "      <th>6</th>\n",
       "      <td>2022-01-01 01:30:00</td>\n",
       "      <td>1369.23</td>\n",
       "      <td>1681.49</td>\n",
       "      <td>2254.4</td>\n",
       "      <td>1537.71</td>\n",
       "      <td>-168.48</td>\n",
       "      <td>143.78</td>\n",
       "      <td>-123.86</td>\n",
       "      <td>168.48</td>\n",
       "      <td>118.48</td>\n",
       "    </tr>\n",
       "    <tr>\n",
       "      <th>7</th>\n",
       "      <td>2022-01-01 01:45:00</td>\n",
       "      <td>1279.94</td>\n",
       "      <td>1635.11</td>\n",
       "      <td>2254.4</td>\n",
       "      <td>1369.23</td>\n",
       "      <td>-89.29</td>\n",
       "      <td>265.88</td>\n",
       "      <td>-168.48</td>\n",
       "      <td>89.29</td>\n",
       "      <td>39.29</td>\n",
       "    </tr>\n",
       "    <tr>\n",
       "      <th>...</th>\n",
       "      <td>...</td>\n",
       "      <td>...</td>\n",
       "      <td>...</td>\n",
       "      <td>...</td>\n",
       "      <td>...</td>\n",
       "      <td>...</td>\n",
       "      <td>...</td>\n",
       "      <td>...</td>\n",
       "      <td>...</td>\n",
       "      <td>...</td>\n",
       "    </tr>\n",
       "    <tr>\n",
       "      <th>34956</th>\n",
       "      <td>2022-12-31 03:00:00</td>\n",
       "      <td>1986.06</td>\n",
       "      <td>2079.73</td>\n",
       "      <td>2254.4</td>\n",
       "      <td>2071.58</td>\n",
       "      <td>-85.52</td>\n",
       "      <td>8.15</td>\n",
       "      <td>-20.48</td>\n",
       "      <td>85.52</td>\n",
       "      <td>35.52</td>\n",
       "    </tr>\n",
       "    <tr>\n",
       "      <th>34957</th>\n",
       "      <td>2022-12-31 03:15:00</td>\n",
       "      <td>1638.46</td>\n",
       "      <td>2030.70</td>\n",
       "      <td>2254.4</td>\n",
       "      <td>1986.06</td>\n",
       "      <td>-347.60</td>\n",
       "      <td>44.64</td>\n",
       "      <td>-85.52</td>\n",
       "      <td>347.60</td>\n",
       "      <td>297.60</td>\n",
       "    </tr>\n",
       "    <tr>\n",
       "      <th>34958</th>\n",
       "      <td>2022-12-31 03:30:00</td>\n",
       "      <td>1329.13</td>\n",
       "      <td>1928.68</td>\n",
       "      <td>2254.4</td>\n",
       "      <td>1638.46</td>\n",
       "      <td>-309.33</td>\n",
       "      <td>290.22</td>\n",
       "      <td>-347.60</td>\n",
       "      <td>309.33</td>\n",
       "      <td>259.33</td>\n",
       "    </tr>\n",
       "    <tr>\n",
       "      <th>34959</th>\n",
       "      <td>2022-12-31 03:45:00</td>\n",
       "      <td>1053.70</td>\n",
       "      <td>1788.40</td>\n",
       "      <td>2254.4</td>\n",
       "      <td>1329.13</td>\n",
       "      <td>-275.43</td>\n",
       "      <td>459.27</td>\n",
       "      <td>-309.33</td>\n",
       "      <td>275.43</td>\n",
       "      <td>225.43</td>\n",
       "    </tr>\n",
       "    <tr>\n",
       "      <th>34990</th>\n",
       "      <td>2022-12-31 11:30:00</td>\n",
       "      <td>2117.26</td>\n",
       "      <td>2163.36</td>\n",
       "      <td>2254.4</td>\n",
       "      <td>2186.11</td>\n",
       "      <td>-68.85</td>\n",
       "      <td>-22.75</td>\n",
       "      <td>-12.29</td>\n",
       "      <td>68.85</td>\n",
       "      <td>18.85</td>\n",
       "    </tr>\n",
       "  </tbody>\n",
       "</table>\n",
       "<p>4437 rows × 10 columns</p>\n",
       "</div>"
      ],
      "text/plain": [
       "                  Datetime  Measured & Upscaled  Most recent forecast  \\\n",
       "2      2022-01-01 00:30:00              1801.63               1823.16   \n",
       "4      2022-01-01 01:00:00              1661.57               1779.28   \n",
       "5      2022-01-01 01:15:00              1537.71               1743.19   \n",
       "6      2022-01-01 01:30:00              1369.23               1681.49   \n",
       "7      2022-01-01 01:45:00              1279.94               1635.11   \n",
       "...                    ...                  ...                   ...   \n",
       "34956  2022-12-31 03:00:00              1986.06               2079.73   \n",
       "34957  2022-12-31 03:15:00              1638.46               2030.70   \n",
       "34958  2022-12-31 03:30:00              1329.13               1928.68   \n",
       "34959  2022-12-31 03:45:00              1053.70               1788.40   \n",
       "34990  2022-12-31 11:30:00              2117.26               2163.36   \n",
       "\n",
       "       Monitored capacity  ShiftMeasured  Fluctuation15M  PredFluctuation15M  \\\n",
       "2                  2254.4        1962.39         -160.76             -139.23   \n",
       "4                  2254.4        1824.41         -162.84              -45.13   \n",
       "5                  2254.4        1661.57         -123.86               81.62   \n",
       "6                  2254.4        1537.71         -168.48              143.78   \n",
       "7                  2254.4        1369.23          -89.29              265.88   \n",
       "...                   ...            ...             ...                 ...   \n",
       "34956              2254.4        2071.58          -85.52                8.15   \n",
       "34957              2254.4        1986.06         -347.60               44.64   \n",
       "34958              2254.4        1638.46         -309.33              290.22   \n",
       "34959              2254.4        1329.13         -275.43              459.27   \n",
       "34990              2254.4        2186.11          -68.85              -22.75   \n",
       "\n",
       "       ShiftFluctuation15M  abs_Fluctuation15M  above_line  \n",
       "2                   158.91              160.76      110.76  \n",
       "4                    22.78              162.84      112.84  \n",
       "5                  -162.84              123.86       73.86  \n",
       "6                  -123.86              168.48      118.48  \n",
       "7                  -168.48               89.29       39.29  \n",
       "...                    ...                 ...         ...  \n",
       "34956               -20.48               85.52       35.52  \n",
       "34957               -85.52              347.60      297.60  \n",
       "34958              -347.60              309.33      259.33  \n",
       "34959              -309.33              275.43      225.43  \n",
       "34990               -12.29               68.85       18.85  \n",
       "\n",
       "[4437 rows x 10 columns]"
      ]
     },
     "execution_count": 46,
     "metadata": {},
     "output_type": "execute_result"
    }
   ],
   "source": [
    "data_anly_downward = data_anly.copy()\n",
    "data_anly_downward = data_anly_downward[(data_anly_downward['Fluctuation15M'] <= 0)&(data_anly_downward['above_line']>0)]\n",
    "data_anly_downward.describe().to_csv('ch2_data/越限的向下波动值的总体描述.csv')\n",
    "data_anly_downward"
   ]
  },
  {
   "cell_type": "markdown",
   "metadata": {},
   "source": [
    "对数据超出考核范围的进行描述（必要性）50兆瓦"
   ]
  },
  {
   "cell_type": "markdown",
   "metadata": {},
   "source": [
    "## 2.3 统计连续向上波动"
   ]
  },
  {
   "cell_type": "markdown",
   "metadata": {},
   "source": [
    "### 连续统计函数"
   ]
  },
  {
   "cell_type": "code",
   "execution_count": 47,
   "metadata": {},
   "outputs": [],
   "source": [
    "def continuou_fluctuation_analysis(df,mode):\n",
    "    # 功能描述：分析连续波动的各项指标\n",
    "    # 函数输入：原始数据集，模式，保存文件夹\n",
    "    # 函数输出：分析数据集\n",
    "    df_positive_copy = df.copy()\n",
    "\n",
    "    if mode == 'positive':\n",
    "        df_positive_copy['is_positive'] = df_positive_copy['Fluctuation15M'] > 0\n",
    "        df_positive_copy['is_positive_above'] = df_positive_copy['Fluctuation15M'] > 50\n",
    "    elif mode == 'negative':\n",
    "        df_positive_copy['is_positive'] = df_positive_copy['Fluctuation15M'] < 0\n",
    "        df_positive_copy['is_positive_above'] = df_positive_copy['Fluctuation15M'] < -50\n",
    "\n",
    "    # # 进行绝对值的处理\n",
    "    # df_positive_copy['is_positive'] = abs(df_positive_copy['is_positive'])\n",
    "    df_positive_copy['Fluctuation15M'] = abs(df_positive_copy['Fluctuation15M'])\n",
    "    \n",
    "    # 检测连续正数序列的开始\n",
    "    df_positive_copy['new_group'] = df_positive_copy['is_positive_above'] & (df_positive_copy['is_positive_above'] != df_positive_copy['is_positive_above'].shift(1))\n",
    "    # 为每个连续正数序列分配一个唯一的标识\n",
    "    df_positive_copy['group_id'] = df_positive_copy['new_group'].cumsum()\n",
    "    # 仅选取正数进行分组和计数\n",
    "    positive_sequences = df_positive_copy[df_positive_copy['is_positive_above']].groupby('group_id').size() # 创造从id到长度的映射\n",
    "    # 首先对每个连续正数序列进行聚合计算，得到波动总值、平均值和最大值\n",
    "    grouped_stats = df_positive_copy[df_positive_copy['is_positive_above']].groupby('group_id')['Fluctuation15M'].agg(\n",
    "        total_fluctuation='sum',\n",
    "        average_fluctuation='mean',\n",
    "        max_fluctuation='max'\n",
    "    ).reset_index()\n",
    "\n",
    "    # 将原先计算的序列长度也加入统计表中\n",
    "    grouped_stats['sequence_length'] = grouped_stats['group_id'].map(positive_sequences)\n",
    "\n",
    "    # 现在grouped_stats包含了每个连续正数序列的长度、波动总值、平均值和最大值\n",
    "    # 对这些统计值进行进一步的汇总统计\n",
    "    summary_stats = grouped_stats.groupby('sequence_length').agg({\n",
    "        'total_fluctuation': ['sum', 'mean', 'max'],\n",
    "        'average_fluctuation': ['mean'],\n",
    "        'max_fluctuation': ['max']\n",
    "    })\n",
    "    # 计算各长度连续波动的数量\n",
    "    sequence_counts = positive_sequences.groupby(positive_sequences).size().reset_index()\n",
    "    sequence_counts.columns = ['sequence_length', 'count']\n",
    "\n",
    "    # 合并各项统计数据\n",
    "    summary_stats = pd.merge(summary_stats, sequence_counts, on='sequence_length', how='left')\n",
    "\n",
    "    # 重命名列以便更清晰地表示统计结果\n",
    "    summary_stats.columns = ['sequence_length', 'total_fluctuation_sum', 'total_fluctuation_mean', 'total_fluctuation_max',\n",
    "                             'average_fluctuation_mean', 'max_fluctuation_max', 'count']\n",
    "    # # 重命名列以便更清晰地表示统计结果\n",
    "    # summary_stats.columns = ['_'.join(col).strip() for col in summary_stats.columns.values]\n",
    "    # summary_stats = summary_stats.reset_index()\n",
    "\n",
    "    return summary_stats\n",
    "\n"
   ]
  },
  {
   "cell_type": "code",
   "execution_count": 48,
   "metadata": {},
   "outputs": [
    {
     "name": "stderr",
     "output_type": "stream",
     "text": [
      "C:\\Users\\Great Roy\\AppData\\Local\\Temp\\ipykernel_31748\\3090041095.py:46: FutureWarning: merging between different levels is deprecated and will be removed in a future version. (2 levels on the left, 1 on the right)\n",
      "  summary_stats = pd.merge(summary_stats, sequence_counts, on='sequence_length', how='left')\n"
     ]
    },
    {
     "data": {
      "text/html": [
       "<div>\n",
       "<style scoped>\n",
       "    .dataframe tbody tr th:only-of-type {\n",
       "        vertical-align: middle;\n",
       "    }\n",
       "\n",
       "    .dataframe tbody tr th {\n",
       "        vertical-align: top;\n",
       "    }\n",
       "\n",
       "    .dataframe thead th {\n",
       "        text-align: right;\n",
       "    }\n",
       "</style>\n",
       "<table border=\"1\" class=\"dataframe\">\n",
       "  <thead>\n",
       "    <tr style=\"text-align: right;\">\n",
       "      <th></th>\n",
       "      <th>sequence_length</th>\n",
       "      <th>total_fluctuation_sum</th>\n",
       "      <th>total_fluctuation_mean</th>\n",
       "      <th>total_fluctuation_max</th>\n",
       "      <th>average_fluctuation_mean</th>\n",
       "      <th>max_fluctuation_max</th>\n",
       "      <th>count</th>\n",
       "    </tr>\n",
       "  </thead>\n",
       "  <tbody>\n",
       "    <tr>\n",
       "      <th>0</th>\n",
       "      <td>1</td>\n",
       "      <td>123840.36</td>\n",
       "      <td>96.448879</td>\n",
       "      <td>813.11</td>\n",
       "      <td>96.448879</td>\n",
       "      <td>813.11</td>\n",
       "      <td>1284</td>\n",
       "    </tr>\n",
       "    <tr>\n",
       "      <th>1</th>\n",
       "      <td>2</td>\n",
       "      <td>160930.79</td>\n",
       "      <td>244.575669</td>\n",
       "      <td>1421.01</td>\n",
       "      <td>122.287834</td>\n",
       "      <td>1284.68</td>\n",
       "      <td>658</td>\n",
       "    </tr>\n",
       "    <tr>\n",
       "      <th>2</th>\n",
       "      <td>3</td>\n",
       "      <td>99085.34</td>\n",
       "      <td>390.099764</td>\n",
       "      <td>1736.38</td>\n",
       "      <td>130.033255</td>\n",
       "      <td>893.29</td>\n",
       "      <td>254</td>\n",
       "    </tr>\n",
       "    <tr>\n",
       "      <th>3</th>\n",
       "      <td>4</td>\n",
       "      <td>51795.04</td>\n",
       "      <td>539.531667</td>\n",
       "      <td>1834.09</td>\n",
       "      <td>134.882917</td>\n",
       "      <td>685.36</td>\n",
       "      <td>96</td>\n",
       "    </tr>\n",
       "    <tr>\n",
       "      <th>4</th>\n",
       "      <td>5</td>\n",
       "      <td>38787.67</td>\n",
       "      <td>668.752931</td>\n",
       "      <td>1427.74</td>\n",
       "      <td>133.750586</td>\n",
       "      <td>462.51</td>\n",
       "      <td>58</td>\n",
       "    </tr>\n",
       "    <tr>\n",
       "      <th>5</th>\n",
       "      <td>6</td>\n",
       "      <td>28475.63</td>\n",
       "      <td>862.897879</td>\n",
       "      <td>1831.46</td>\n",
       "      <td>143.816313</td>\n",
       "      <td>634.12</td>\n",
       "      <td>33</td>\n",
       "    </tr>\n",
       "    <tr>\n",
       "      <th>6</th>\n",
       "      <td>7</td>\n",
       "      <td>12489.75</td>\n",
       "      <td>1040.812500</td>\n",
       "      <td>1588.84</td>\n",
       "      <td>148.687500</td>\n",
       "      <td>455.59</td>\n",
       "      <td>12</td>\n",
       "    </tr>\n",
       "    <tr>\n",
       "      <th>7</th>\n",
       "      <td>8</td>\n",
       "      <td>8952.18</td>\n",
       "      <td>1119.022500</td>\n",
       "      <td>2001.29</td>\n",
       "      <td>139.877813</td>\n",
       "      <td>437.96</td>\n",
       "      <td>8</td>\n",
       "    </tr>\n",
       "    <tr>\n",
       "      <th>8</th>\n",
       "      <td>9</td>\n",
       "      <td>5271.86</td>\n",
       "      <td>1317.965000</td>\n",
       "      <td>1548.50</td>\n",
       "      <td>146.440556</td>\n",
       "      <td>318.55</td>\n",
       "      <td>4</td>\n",
       "    </tr>\n",
       "    <tr>\n",
       "      <th>9</th>\n",
       "      <td>10</td>\n",
       "      <td>2320.98</td>\n",
       "      <td>1160.490000</td>\n",
       "      <td>1355.40</td>\n",
       "      <td>116.049000</td>\n",
       "      <td>268.89</td>\n",
       "      <td>2</td>\n",
       "    </tr>\n",
       "    <tr>\n",
       "      <th>10</th>\n",
       "      <td>12</td>\n",
       "      <td>1215.41</td>\n",
       "      <td>1215.410000</td>\n",
       "      <td>1215.41</td>\n",
       "      <td>101.284167</td>\n",
       "      <td>200.20</td>\n",
       "      <td>1</td>\n",
       "    </tr>\n",
       "    <tr>\n",
       "      <th>11</th>\n",
       "      <td>16</td>\n",
       "      <td>1888.66</td>\n",
       "      <td>1888.660000</td>\n",
       "      <td>1888.66</td>\n",
       "      <td>118.041250</td>\n",
       "      <td>228.14</td>\n",
       "      <td>1</td>\n",
       "    </tr>\n",
       "  </tbody>\n",
       "</table>\n",
       "</div>"
      ],
      "text/plain": [
       "    sequence_length  total_fluctuation_sum  total_fluctuation_mean  \\\n",
       "0                 1              123840.36               96.448879   \n",
       "1                 2              160930.79              244.575669   \n",
       "2                 3               99085.34              390.099764   \n",
       "3                 4               51795.04              539.531667   \n",
       "4                 5               38787.67              668.752931   \n",
       "5                 6               28475.63              862.897879   \n",
       "6                 7               12489.75             1040.812500   \n",
       "7                 8                8952.18             1119.022500   \n",
       "8                 9                5271.86             1317.965000   \n",
       "9                10                2320.98             1160.490000   \n",
       "10               12                1215.41             1215.410000   \n",
       "11               16                1888.66             1888.660000   \n",
       "\n",
       "    total_fluctuation_max  average_fluctuation_mean  max_fluctuation_max  \\\n",
       "0                  813.11                 96.448879               813.11   \n",
       "1                 1421.01                122.287834              1284.68   \n",
       "2                 1736.38                130.033255               893.29   \n",
       "3                 1834.09                134.882917               685.36   \n",
       "4                 1427.74                133.750586               462.51   \n",
       "5                 1831.46                143.816313               634.12   \n",
       "6                 1588.84                148.687500               455.59   \n",
       "7                 2001.29                139.877813               437.96   \n",
       "8                 1548.50                146.440556               318.55   \n",
       "9                 1355.40                116.049000               268.89   \n",
       "10                1215.41                101.284167               200.20   \n",
       "11                1888.66                118.041250               228.14   \n",
       "\n",
       "    count  \n",
       "0    1284  \n",
       "1     658  \n",
       "2     254  \n",
       "3      96  \n",
       "4      58  \n",
       "5      33  \n",
       "6      12  \n",
       "7       8  \n",
       "8       4  \n",
       "9       2  \n",
       "10      1  \n",
       "11      1  "
      ]
     },
     "execution_count": 48,
     "metadata": {},
     "output_type": "execute_result"
    }
   ],
   "source": [
    "# 越限的连续波动分析\n",
    "df_positive_copy = data_anly.copy()\n",
    "positive_summary_stats = continuou_fluctuation_analysis(df_positive_copy,'positive')\n",
    "positive_summary_stats.to_csv('ch2_data/连续向下波动功率差统计.csv')\n",
    "positive_summary_stats"
   ]
  },
  {
   "cell_type": "code",
   "execution_count": 49,
   "metadata": {},
   "outputs": [
    {
     "data": {
      "text/plain": [
       "sequence_length                 82.000000\n",
       "total_fluctuation_sum       411213.310000\n",
       "total_fluctuation_mean       10448.217909\n",
       "total_fluctuation_max        17848.780000\n",
       "average_fluctuation_mean      1435.151190\n",
       "max_fluctuation_max           5869.290000\n",
       "count                         1127.000000\n",
       "dtype: float64"
      ]
     },
     "execution_count": 49,
     "metadata": {},
     "output_type": "execute_result"
    }
   ],
   "source": [
    "positive_summary_stats[1:].sum()"
   ]
  },
  {
   "cell_type": "code",
   "execution_count": null,
   "metadata": {},
   "outputs": [],
   "source": []
  },
  {
   "cell_type": "code",
   "execution_count": 54,
   "metadata": {},
   "outputs": [
    {
     "data": {
      "application/vnd.plotly.v1+json": {
       "config": {
        "plotlyServerURL": "https://plot.ly"
       },
       "data": [
        {
         "domain": {
          "x": [
           0,
           1
          ],
          "y": [
           0,
           1
          ]
         },
         "hovertemplate": "sequence_length=%{label}<br>total_fluctuation_sum=%{value}<extra></extra>",
         "labels": [
          1,
          2,
          3,
          4,
          5,
          6,
          7,
          8,
          9,
          10,
          12,
          16
         ],
         "legendgroup": "",
         "name": "",
         "showlegend": true,
         "type": "pie",
         "values": [
          123840.36,
          160930.79,
          99085.34,
          51795.04,
          38787.67,
          28475.629999999997,
          12489.75,
          8952.18,
          5271.860000000001,
          2320.98,
          1215.4099999999999,
          1888.6599999999999
         ]
        }
       ],
       "layout": {
        "legend": {
         "tracegroupgap": 0
        },
        "margin": {
         "t": 60
        },
        "template": {
         "data": {
          "bar": [
           {
            "error_x": {
             "color": "#2a3f5f"
            },
            "error_y": {
             "color": "#2a3f5f"
            },
            "marker": {
             "line": {
              "color": "#E5ECF6",
              "width": 0.5
             },
             "pattern": {
              "fillmode": "overlay",
              "size": 10,
              "solidity": 0.2
             }
            },
            "type": "bar"
           }
          ],
          "barpolar": [
           {
            "marker": {
             "line": {
              "color": "#E5ECF6",
              "width": 0.5
             },
             "pattern": {
              "fillmode": "overlay",
              "size": 10,
              "solidity": 0.2
             }
            },
            "type": "barpolar"
           }
          ],
          "carpet": [
           {
            "aaxis": {
             "endlinecolor": "#2a3f5f",
             "gridcolor": "white",
             "linecolor": "white",
             "minorgridcolor": "white",
             "startlinecolor": "#2a3f5f"
            },
            "baxis": {
             "endlinecolor": "#2a3f5f",
             "gridcolor": "white",
             "linecolor": "white",
             "minorgridcolor": "white",
             "startlinecolor": "#2a3f5f"
            },
            "type": "carpet"
           }
          ],
          "choropleth": [
           {
            "colorbar": {
             "outlinewidth": 0,
             "ticks": ""
            },
            "type": "choropleth"
           }
          ],
          "contour": [
           {
            "colorbar": {
             "outlinewidth": 0,
             "ticks": ""
            },
            "colorscale": [
             [
              0,
              "#0d0887"
             ],
             [
              0.1111111111111111,
              "#46039f"
             ],
             [
              0.2222222222222222,
              "#7201a8"
             ],
             [
              0.3333333333333333,
              "#9c179e"
             ],
             [
              0.4444444444444444,
              "#bd3786"
             ],
             [
              0.5555555555555556,
              "#d8576b"
             ],
             [
              0.6666666666666666,
              "#ed7953"
             ],
             [
              0.7777777777777778,
              "#fb9f3a"
             ],
             [
              0.8888888888888888,
              "#fdca26"
             ],
             [
              1,
              "#f0f921"
             ]
            ],
            "type": "contour"
           }
          ],
          "contourcarpet": [
           {
            "colorbar": {
             "outlinewidth": 0,
             "ticks": ""
            },
            "type": "contourcarpet"
           }
          ],
          "heatmap": [
           {
            "colorbar": {
             "outlinewidth": 0,
             "ticks": ""
            },
            "colorscale": [
             [
              0,
              "#0d0887"
             ],
             [
              0.1111111111111111,
              "#46039f"
             ],
             [
              0.2222222222222222,
              "#7201a8"
             ],
             [
              0.3333333333333333,
              "#9c179e"
             ],
             [
              0.4444444444444444,
              "#bd3786"
             ],
             [
              0.5555555555555556,
              "#d8576b"
             ],
             [
              0.6666666666666666,
              "#ed7953"
             ],
             [
              0.7777777777777778,
              "#fb9f3a"
             ],
             [
              0.8888888888888888,
              "#fdca26"
             ],
             [
              1,
              "#f0f921"
             ]
            ],
            "type": "heatmap"
           }
          ],
          "heatmapgl": [
           {
            "colorbar": {
             "outlinewidth": 0,
             "ticks": ""
            },
            "colorscale": [
             [
              0,
              "#0d0887"
             ],
             [
              0.1111111111111111,
              "#46039f"
             ],
             [
              0.2222222222222222,
              "#7201a8"
             ],
             [
              0.3333333333333333,
              "#9c179e"
             ],
             [
              0.4444444444444444,
              "#bd3786"
             ],
             [
              0.5555555555555556,
              "#d8576b"
             ],
             [
              0.6666666666666666,
              "#ed7953"
             ],
             [
              0.7777777777777778,
              "#fb9f3a"
             ],
             [
              0.8888888888888888,
              "#fdca26"
             ],
             [
              1,
              "#f0f921"
             ]
            ],
            "type": "heatmapgl"
           }
          ],
          "histogram": [
           {
            "marker": {
             "pattern": {
              "fillmode": "overlay",
              "size": 10,
              "solidity": 0.2
             }
            },
            "type": "histogram"
           }
          ],
          "histogram2d": [
           {
            "colorbar": {
             "outlinewidth": 0,
             "ticks": ""
            },
            "colorscale": [
             [
              0,
              "#0d0887"
             ],
             [
              0.1111111111111111,
              "#46039f"
             ],
             [
              0.2222222222222222,
              "#7201a8"
             ],
             [
              0.3333333333333333,
              "#9c179e"
             ],
             [
              0.4444444444444444,
              "#bd3786"
             ],
             [
              0.5555555555555556,
              "#d8576b"
             ],
             [
              0.6666666666666666,
              "#ed7953"
             ],
             [
              0.7777777777777778,
              "#fb9f3a"
             ],
             [
              0.8888888888888888,
              "#fdca26"
             ],
             [
              1,
              "#f0f921"
             ]
            ],
            "type": "histogram2d"
           }
          ],
          "histogram2dcontour": [
           {
            "colorbar": {
             "outlinewidth": 0,
             "ticks": ""
            },
            "colorscale": [
             [
              0,
              "#0d0887"
             ],
             [
              0.1111111111111111,
              "#46039f"
             ],
             [
              0.2222222222222222,
              "#7201a8"
             ],
             [
              0.3333333333333333,
              "#9c179e"
             ],
             [
              0.4444444444444444,
              "#bd3786"
             ],
             [
              0.5555555555555556,
              "#d8576b"
             ],
             [
              0.6666666666666666,
              "#ed7953"
             ],
             [
              0.7777777777777778,
              "#fb9f3a"
             ],
             [
              0.8888888888888888,
              "#fdca26"
             ],
             [
              1,
              "#f0f921"
             ]
            ],
            "type": "histogram2dcontour"
           }
          ],
          "mesh3d": [
           {
            "colorbar": {
             "outlinewidth": 0,
             "ticks": ""
            },
            "type": "mesh3d"
           }
          ],
          "parcoords": [
           {
            "line": {
             "colorbar": {
              "outlinewidth": 0,
              "ticks": ""
             }
            },
            "type": "parcoords"
           }
          ],
          "pie": [
           {
            "automargin": true,
            "type": "pie"
           }
          ],
          "scatter": [
           {
            "fillpattern": {
             "fillmode": "overlay",
             "size": 10,
             "solidity": 0.2
            },
            "type": "scatter"
           }
          ],
          "scatter3d": [
           {
            "line": {
             "colorbar": {
              "outlinewidth": 0,
              "ticks": ""
             }
            },
            "marker": {
             "colorbar": {
              "outlinewidth": 0,
              "ticks": ""
             }
            },
            "type": "scatter3d"
           }
          ],
          "scattercarpet": [
           {
            "marker": {
             "colorbar": {
              "outlinewidth": 0,
              "ticks": ""
             }
            },
            "type": "scattercarpet"
           }
          ],
          "scattergeo": [
           {
            "marker": {
             "colorbar": {
              "outlinewidth": 0,
              "ticks": ""
             }
            },
            "type": "scattergeo"
           }
          ],
          "scattergl": [
           {
            "marker": {
             "colorbar": {
              "outlinewidth": 0,
              "ticks": ""
             }
            },
            "type": "scattergl"
           }
          ],
          "scattermapbox": [
           {
            "marker": {
             "colorbar": {
              "outlinewidth": 0,
              "ticks": ""
             }
            },
            "type": "scattermapbox"
           }
          ],
          "scatterpolar": [
           {
            "marker": {
             "colorbar": {
              "outlinewidth": 0,
              "ticks": ""
             }
            },
            "type": "scatterpolar"
           }
          ],
          "scatterpolargl": [
           {
            "marker": {
             "colorbar": {
              "outlinewidth": 0,
              "ticks": ""
             }
            },
            "type": "scatterpolargl"
           }
          ],
          "scatterternary": [
           {
            "marker": {
             "colorbar": {
              "outlinewidth": 0,
              "ticks": ""
             }
            },
            "type": "scatterternary"
           }
          ],
          "surface": [
           {
            "colorbar": {
             "outlinewidth": 0,
             "ticks": ""
            },
            "colorscale": [
             [
              0,
              "#0d0887"
             ],
             [
              0.1111111111111111,
              "#46039f"
             ],
             [
              0.2222222222222222,
              "#7201a8"
             ],
             [
              0.3333333333333333,
              "#9c179e"
             ],
             [
              0.4444444444444444,
              "#bd3786"
             ],
             [
              0.5555555555555556,
              "#d8576b"
             ],
             [
              0.6666666666666666,
              "#ed7953"
             ],
             [
              0.7777777777777778,
              "#fb9f3a"
             ],
             [
              0.8888888888888888,
              "#fdca26"
             ],
             [
              1,
              "#f0f921"
             ]
            ],
            "type": "surface"
           }
          ],
          "table": [
           {
            "cells": {
             "fill": {
              "color": "#EBF0F8"
             },
             "line": {
              "color": "white"
             }
            },
            "header": {
             "fill": {
              "color": "#C8D4E3"
             },
             "line": {
              "color": "white"
             }
            },
            "type": "table"
           }
          ]
         },
         "layout": {
          "annotationdefaults": {
           "arrowcolor": "#2a3f5f",
           "arrowhead": 0,
           "arrowwidth": 1
          },
          "autotypenumbers": "strict",
          "coloraxis": {
           "colorbar": {
            "outlinewidth": 0,
            "ticks": ""
           }
          },
          "colorscale": {
           "diverging": [
            [
             0,
             "#8e0152"
            ],
            [
             0.1,
             "#c51b7d"
            ],
            [
             0.2,
             "#de77ae"
            ],
            [
             0.3,
             "#f1b6da"
            ],
            [
             0.4,
             "#fde0ef"
            ],
            [
             0.5,
             "#f7f7f7"
            ],
            [
             0.6,
             "#e6f5d0"
            ],
            [
             0.7,
             "#b8e186"
            ],
            [
             0.8,
             "#7fbc41"
            ],
            [
             0.9,
             "#4d9221"
            ],
            [
             1,
             "#276419"
            ]
           ],
           "sequential": [
            [
             0,
             "#0d0887"
            ],
            [
             0.1111111111111111,
             "#46039f"
            ],
            [
             0.2222222222222222,
             "#7201a8"
            ],
            [
             0.3333333333333333,
             "#9c179e"
            ],
            [
             0.4444444444444444,
             "#bd3786"
            ],
            [
             0.5555555555555556,
             "#d8576b"
            ],
            [
             0.6666666666666666,
             "#ed7953"
            ],
            [
             0.7777777777777778,
             "#fb9f3a"
            ],
            [
             0.8888888888888888,
             "#fdca26"
            ],
            [
             1,
             "#f0f921"
            ]
           ],
           "sequentialminus": [
            [
             0,
             "#0d0887"
            ],
            [
             0.1111111111111111,
             "#46039f"
            ],
            [
             0.2222222222222222,
             "#7201a8"
            ],
            [
             0.3333333333333333,
             "#9c179e"
            ],
            [
             0.4444444444444444,
             "#bd3786"
            ],
            [
             0.5555555555555556,
             "#d8576b"
            ],
            [
             0.6666666666666666,
             "#ed7953"
            ],
            [
             0.7777777777777778,
             "#fb9f3a"
            ],
            [
             0.8888888888888888,
             "#fdca26"
            ],
            [
             1,
             "#f0f921"
            ]
           ]
          },
          "colorway": [
           "#636efa",
           "#EF553B",
           "#00cc96",
           "#ab63fa",
           "#FFA15A",
           "#19d3f3",
           "#FF6692",
           "#B6E880",
           "#FF97FF",
           "#FECB52"
          ],
          "font": {
           "color": "#2a3f5f"
          },
          "geo": {
           "bgcolor": "white",
           "lakecolor": "white",
           "landcolor": "#E5ECF6",
           "showlakes": true,
           "showland": true,
           "subunitcolor": "white"
          },
          "hoverlabel": {
           "align": "left"
          },
          "hovermode": "closest",
          "mapbox": {
           "style": "light"
          },
          "paper_bgcolor": "white",
          "plot_bgcolor": "#E5ECF6",
          "polar": {
           "angularaxis": {
            "gridcolor": "white",
            "linecolor": "white",
            "ticks": ""
           },
           "bgcolor": "#E5ECF6",
           "radialaxis": {
            "gridcolor": "white",
            "linecolor": "white",
            "ticks": ""
           }
          },
          "scene": {
           "xaxis": {
            "backgroundcolor": "#E5ECF6",
            "gridcolor": "white",
            "gridwidth": 2,
            "linecolor": "white",
            "showbackground": true,
            "ticks": "",
            "zerolinecolor": "white"
           },
           "yaxis": {
            "backgroundcolor": "#E5ECF6",
            "gridcolor": "white",
            "gridwidth": 2,
            "linecolor": "white",
            "showbackground": true,
            "ticks": "",
            "zerolinecolor": "white"
           },
           "zaxis": {
            "backgroundcolor": "#E5ECF6",
            "gridcolor": "white",
            "gridwidth": 2,
            "linecolor": "white",
            "showbackground": true,
            "ticks": "",
            "zerolinecolor": "white"
           }
          },
          "shapedefaults": {
           "line": {
            "color": "#2a3f5f"
           }
          },
          "ternary": {
           "aaxis": {
            "gridcolor": "white",
            "linecolor": "white",
            "ticks": ""
           },
           "baxis": {
            "gridcolor": "white",
            "linecolor": "white",
            "ticks": ""
           },
           "bgcolor": "#E5ECF6",
           "caxis": {
            "gridcolor": "white",
            "linecolor": "white",
            "ticks": ""
           }
          },
          "title": {
           "x": 0.05
          },
          "xaxis": {
           "automargin": true,
           "gridcolor": "white",
           "linecolor": "white",
           "ticks": "",
           "title": {
            "standoff": 15
           },
           "zerolinecolor": "white",
           "zerolinewidth": 2
          },
          "yaxis": {
           "automargin": true,
           "gridcolor": "white",
           "linecolor": "white",
           "ticks": "",
           "title": {
            "standoff": 15
           },
           "zerolinecolor": "white",
           "zerolinewidth": 2
          }
         }
        }
       }
      }
     },
     "metadata": {},
     "output_type": "display_data"
    }
   ],
   "source": [
    "positive_draw = positive_summary_stats.copy()\n",
    "\n",
    "fig = px.pie(positive_draw, values='total_fluctuation_sum', names='sequence_length')\n",
    "fig.show()"
   ]
  },
  {
   "cell_type": "markdown",
   "metadata": {},
   "source": [
    "## 2.4 统计连续向下波动"
   ]
  },
  {
   "cell_type": "code",
   "execution_count": null,
   "metadata": {},
   "outputs": [
    {
     "name": "stderr",
     "output_type": "stream",
     "text": [
      "C:\\Users\\Great Roy\\AppData\\Local\\Temp\\ipykernel_31748\\3090041095.py:46: FutureWarning: merging between different levels is deprecated and will be removed in a future version. (2 levels on the left, 1 on the right)\n",
      "  summary_stats = pd.merge(summary_stats, sequence_counts, on='sequence_length', how='left')\n"
     ]
    },
    {
     "data": {
      "text/html": [
       "<div>\n",
       "<style scoped>\n",
       "    .dataframe tbody tr th:only-of-type {\n",
       "        vertical-align: middle;\n",
       "    }\n",
       "\n",
       "    .dataframe tbody tr th {\n",
       "        vertical-align: top;\n",
       "    }\n",
       "\n",
       "    .dataframe thead th {\n",
       "        text-align: right;\n",
       "    }\n",
       "</style>\n",
       "<table border=\"1\" class=\"dataframe\">\n",
       "  <thead>\n",
       "    <tr style=\"text-align: right;\">\n",
       "      <th></th>\n",
       "      <th>sequence_length</th>\n",
       "      <th>total_fluctuation_sum</th>\n",
       "      <th>total_fluctuation_mean</th>\n",
       "      <th>total_fluctuation_max</th>\n",
       "      <th>average_fluctuation_mean</th>\n",
       "      <th>max_fluctuation_max</th>\n",
       "      <th>count</th>\n",
       "    </tr>\n",
       "  </thead>\n",
       "  <tbody>\n",
       "    <tr>\n",
       "      <th>0</th>\n",
       "      <td>1</td>\n",
       "      <td>131611.96</td>\n",
       "      <td>98.659640</td>\n",
       "      <td>1142.34</td>\n",
       "      <td>98.659640</td>\n",
       "      <td>1142.34</td>\n",
       "      <td>1334</td>\n",
       "    </tr>\n",
       "    <tr>\n",
       "      <th>1</th>\n",
       "      <td>2</td>\n",
       "      <td>154121.15</td>\n",
       "      <td>244.636746</td>\n",
       "      <td>1124.68</td>\n",
       "      <td>122.318373</td>\n",
       "      <td>823.63</td>\n",
       "      <td>630</td>\n",
       "    </tr>\n",
       "    <tr>\n",
       "      <th>2</th>\n",
       "      <td>3</td>\n",
       "      <td>87131.12</td>\n",
       "      <td>373.953305</td>\n",
       "      <td>1674.04</td>\n",
       "      <td>124.651102</td>\n",
       "      <td>812.01</td>\n",
       "      <td>233</td>\n",
       "    </tr>\n",
       "    <tr>\n",
       "      <th>3</th>\n",
       "      <td>4</td>\n",
       "      <td>64229.07</td>\n",
       "      <td>513.832560</td>\n",
       "      <td>1581.00</td>\n",
       "      <td>128.458140</td>\n",
       "      <td>749.93</td>\n",
       "      <td>125</td>\n",
       "    </tr>\n",
       "    <tr>\n",
       "      <th>4</th>\n",
       "      <td>5</td>\n",
       "      <td>34546.17</td>\n",
       "      <td>767.692667</td>\n",
       "      <td>1834.20</td>\n",
       "      <td>153.538533</td>\n",
       "      <td>767.80</td>\n",
       "      <td>45</td>\n",
       "    </tr>\n",
       "    <tr>\n",
       "      <th>5</th>\n",
       "      <td>6</td>\n",
       "      <td>18892.05</td>\n",
       "      <td>674.716071</td>\n",
       "      <td>1132.96</td>\n",
       "      <td>112.452679</td>\n",
       "      <td>407.88</td>\n",
       "      <td>28</td>\n",
       "    </tr>\n",
       "    <tr>\n",
       "      <th>6</th>\n",
       "      <td>7</td>\n",
       "      <td>8344.77</td>\n",
       "      <td>834.477000</td>\n",
       "      <td>1392.19</td>\n",
       "      <td>119.211000</td>\n",
       "      <td>313.90</td>\n",
       "      <td>10</td>\n",
       "    </tr>\n",
       "    <tr>\n",
       "      <th>7</th>\n",
       "      <td>8</td>\n",
       "      <td>8048.34</td>\n",
       "      <td>894.260000</td>\n",
       "      <td>1249.19</td>\n",
       "      <td>111.782500</td>\n",
       "      <td>280.50</td>\n",
       "      <td>9</td>\n",
       "    </tr>\n",
       "    <tr>\n",
       "      <th>8</th>\n",
       "      <td>9</td>\n",
       "      <td>4663.92</td>\n",
       "      <td>1165.980000</td>\n",
       "      <td>1525.70</td>\n",
       "      <td>129.553333</td>\n",
       "      <td>249.14</td>\n",
       "      <td>4</td>\n",
       "    </tr>\n",
       "    <tr>\n",
       "      <th>9</th>\n",
       "      <td>10</td>\n",
       "      <td>975.61</td>\n",
       "      <td>975.610000</td>\n",
       "      <td>975.61</td>\n",
       "      <td>97.561000</td>\n",
       "      <td>143.98</td>\n",
       "      <td>1</td>\n",
       "    </tr>\n",
       "    <tr>\n",
       "      <th>10</th>\n",
       "      <td>11</td>\n",
       "      <td>3081.23</td>\n",
       "      <td>1540.615000</td>\n",
       "      <td>1618.45</td>\n",
       "      <td>140.055909</td>\n",
       "      <td>278.98</td>\n",
       "      <td>2</td>\n",
       "    </tr>\n",
       "    <tr>\n",
       "      <th>11</th>\n",
       "      <td>13</td>\n",
       "      <td>2853.12</td>\n",
       "      <td>1426.560000</td>\n",
       "      <td>1625.62</td>\n",
       "      <td>109.735385</td>\n",
       "      <td>302.97</td>\n",
       "      <td>2</td>\n",
       "    </tr>\n",
       "    <tr>\n",
       "      <th>12</th>\n",
       "      <td>15</td>\n",
       "      <td>1601.00</td>\n",
       "      <td>1601.000000</td>\n",
       "      <td>1601.00</td>\n",
       "      <td>106.733333</td>\n",
       "      <td>204.85</td>\n",
       "      <td>1</td>\n",
       "    </tr>\n",
       "  </tbody>\n",
       "</table>\n",
       "</div>"
      ],
      "text/plain": [
       "    sequence_length  total_fluctuation_sum  total_fluctuation_mean  \\\n",
       "0                 1              131611.96               98.659640   \n",
       "1                 2              154121.15              244.636746   \n",
       "2                 3               87131.12              373.953305   \n",
       "3                 4               64229.07              513.832560   \n",
       "4                 5               34546.17              767.692667   \n",
       "5                 6               18892.05              674.716071   \n",
       "6                 7                8344.77              834.477000   \n",
       "7                 8                8048.34              894.260000   \n",
       "8                 9                4663.92             1165.980000   \n",
       "9                10                 975.61              975.610000   \n",
       "10               11                3081.23             1540.615000   \n",
       "11               13                2853.12             1426.560000   \n",
       "12               15                1601.00             1601.000000   \n",
       "\n",
       "    total_fluctuation_max  average_fluctuation_mean  max_fluctuation_max  \\\n",
       "0                 1142.34                 98.659640              1142.34   \n",
       "1                 1124.68                122.318373               823.63   \n",
       "2                 1674.04                124.651102               812.01   \n",
       "3                 1581.00                128.458140               749.93   \n",
       "4                 1834.20                153.538533               767.80   \n",
       "5                 1132.96                112.452679               407.88   \n",
       "6                 1392.19                119.211000               313.90   \n",
       "7                 1249.19                111.782500               280.50   \n",
       "8                 1525.70                129.553333               249.14   \n",
       "9                  975.61                 97.561000               143.98   \n",
       "10                1618.45                140.055909               278.98   \n",
       "11                1625.62                109.735385               302.97   \n",
       "12                1601.00                106.733333               204.85   \n",
       "\n",
       "    count  \n",
       "0    1334  \n",
       "1     630  \n",
       "2     233  \n",
       "3     125  \n",
       "4      45  \n",
       "5      28  \n",
       "6      10  \n",
       "7       9  \n",
       "8       4  \n",
       "9       1  \n",
       "10      2  \n",
       "11      2  \n",
       "12      1  "
      ]
     },
     "execution_count": 16,
     "metadata": {},
     "output_type": "execute_result"
    }
   ],
   "source": [
    "df_positive_copy = data_anly.copy()\n",
    "negative_summary_stats = continuou_fluctuation_analysis(df_positive_copy,'negative')\n",
    "negative_summary_stats.to_csv('ch2_data/连续向下波动功率差统计.csv')\n",
    "negative_summary_stats"
   ]
  },
  {
   "cell_type": "code",
   "execution_count": null,
   "metadata": {},
   "outputs": [
    {
     "data": {
      "text/plain": [
       "sequence_length                 93.000000\n",
       "total_fluctuation_sum       388487.550000\n",
       "total_fluctuation_mean       11013.333349\n",
       "total_fluctuation_max        17334.640000\n",
       "average_fluctuation_mean      1456.051287\n",
       "max_fluctuation_max           5335.570000\n",
       "count                         1090.000000\n",
       "dtype: float64"
      ]
     },
     "execution_count": 17,
     "metadata": {},
     "output_type": "execute_result"
    }
   ],
   "source": [
    "negative_summary_stats[1:].sum()"
   ]
  },
  {
   "cell_type": "code",
   "execution_count": 58,
   "metadata": {},
   "outputs": [
    {
     "data": {
      "application/vnd.plotly.v1+json": {
       "config": {
        "plotlyServerURL": "https://plot.ly"
       },
       "data": [
        {
         "domain": {
          "x": [
           0,
           1
          ],
          "y": [
           0,
           1
          ]
         },
         "hovertemplate": "sequence_length=%{label}<br>total_fluctuation_sum=%{value}<extra></extra>",
         "labels": [
          1,
          2,
          3,
          4,
          5,
          6,
          7,
          8,
          9,
          10,
          11,
          13,
          15
         ],
         "legendgroup": "",
         "name": "",
         "showlegend": true,
         "type": "pie",
         "values": [
          131611.96,
          154121.15,
          87131.12,
          64229.07,
          34546.17,
          18892.05,
          8344.77,
          8048.34,
          4663.92,
          975.6100000000001,
          3081.23,
          2853.12,
          1601
         ]
        }
       ],
       "layout": {
        "font": {
         "family": "SimHei",
         "size": 15
        },
        "legend": {
         "tracegroupgap": 0
        },
        "margin": {
         "t": 60
        },
        "template": {
         "data": {
          "bar": [
           {
            "error_x": {
             "color": "#2a3f5f"
            },
            "error_y": {
             "color": "#2a3f5f"
            },
            "marker": {
             "line": {
              "color": "#E5ECF6",
              "width": 0.5
             },
             "pattern": {
              "fillmode": "overlay",
              "size": 10,
              "solidity": 0.2
             }
            },
            "type": "bar"
           }
          ],
          "barpolar": [
           {
            "marker": {
             "line": {
              "color": "#E5ECF6",
              "width": 0.5
             },
             "pattern": {
              "fillmode": "overlay",
              "size": 10,
              "solidity": 0.2
             }
            },
            "type": "barpolar"
           }
          ],
          "carpet": [
           {
            "aaxis": {
             "endlinecolor": "#2a3f5f",
             "gridcolor": "white",
             "linecolor": "white",
             "minorgridcolor": "white",
             "startlinecolor": "#2a3f5f"
            },
            "baxis": {
             "endlinecolor": "#2a3f5f",
             "gridcolor": "white",
             "linecolor": "white",
             "minorgridcolor": "white",
             "startlinecolor": "#2a3f5f"
            },
            "type": "carpet"
           }
          ],
          "choropleth": [
           {
            "colorbar": {
             "outlinewidth": 0,
             "ticks": ""
            },
            "type": "choropleth"
           }
          ],
          "contour": [
           {
            "colorbar": {
             "outlinewidth": 0,
             "ticks": ""
            },
            "colorscale": [
             [
              0,
              "#0d0887"
             ],
             [
              0.1111111111111111,
              "#46039f"
             ],
             [
              0.2222222222222222,
              "#7201a8"
             ],
             [
              0.3333333333333333,
              "#9c179e"
             ],
             [
              0.4444444444444444,
              "#bd3786"
             ],
             [
              0.5555555555555556,
              "#d8576b"
             ],
             [
              0.6666666666666666,
              "#ed7953"
             ],
             [
              0.7777777777777778,
              "#fb9f3a"
             ],
             [
              0.8888888888888888,
              "#fdca26"
             ],
             [
              1,
              "#f0f921"
             ]
            ],
            "type": "contour"
           }
          ],
          "contourcarpet": [
           {
            "colorbar": {
             "outlinewidth": 0,
             "ticks": ""
            },
            "type": "contourcarpet"
           }
          ],
          "heatmap": [
           {
            "colorbar": {
             "outlinewidth": 0,
             "ticks": ""
            },
            "colorscale": [
             [
              0,
              "#0d0887"
             ],
             [
              0.1111111111111111,
              "#46039f"
             ],
             [
              0.2222222222222222,
              "#7201a8"
             ],
             [
              0.3333333333333333,
              "#9c179e"
             ],
             [
              0.4444444444444444,
              "#bd3786"
             ],
             [
              0.5555555555555556,
              "#d8576b"
             ],
             [
              0.6666666666666666,
              "#ed7953"
             ],
             [
              0.7777777777777778,
              "#fb9f3a"
             ],
             [
              0.8888888888888888,
              "#fdca26"
             ],
             [
              1,
              "#f0f921"
             ]
            ],
            "type": "heatmap"
           }
          ],
          "heatmapgl": [
           {
            "colorbar": {
             "outlinewidth": 0,
             "ticks": ""
            },
            "colorscale": [
             [
              0,
              "#0d0887"
             ],
             [
              0.1111111111111111,
              "#46039f"
             ],
             [
              0.2222222222222222,
              "#7201a8"
             ],
             [
              0.3333333333333333,
              "#9c179e"
             ],
             [
              0.4444444444444444,
              "#bd3786"
             ],
             [
              0.5555555555555556,
              "#d8576b"
             ],
             [
              0.6666666666666666,
              "#ed7953"
             ],
             [
              0.7777777777777778,
              "#fb9f3a"
             ],
             [
              0.8888888888888888,
              "#fdca26"
             ],
             [
              1,
              "#f0f921"
             ]
            ],
            "type": "heatmapgl"
           }
          ],
          "histogram": [
           {
            "marker": {
             "pattern": {
              "fillmode": "overlay",
              "size": 10,
              "solidity": 0.2
             }
            },
            "type": "histogram"
           }
          ],
          "histogram2d": [
           {
            "colorbar": {
             "outlinewidth": 0,
             "ticks": ""
            },
            "colorscale": [
             [
              0,
              "#0d0887"
             ],
             [
              0.1111111111111111,
              "#46039f"
             ],
             [
              0.2222222222222222,
              "#7201a8"
             ],
             [
              0.3333333333333333,
              "#9c179e"
             ],
             [
              0.4444444444444444,
              "#bd3786"
             ],
             [
              0.5555555555555556,
              "#d8576b"
             ],
             [
              0.6666666666666666,
              "#ed7953"
             ],
             [
              0.7777777777777778,
              "#fb9f3a"
             ],
             [
              0.8888888888888888,
              "#fdca26"
             ],
             [
              1,
              "#f0f921"
             ]
            ],
            "type": "histogram2d"
           }
          ],
          "histogram2dcontour": [
           {
            "colorbar": {
             "outlinewidth": 0,
             "ticks": ""
            },
            "colorscale": [
             [
              0,
              "#0d0887"
             ],
             [
              0.1111111111111111,
              "#46039f"
             ],
             [
              0.2222222222222222,
              "#7201a8"
             ],
             [
              0.3333333333333333,
              "#9c179e"
             ],
             [
              0.4444444444444444,
              "#bd3786"
             ],
             [
              0.5555555555555556,
              "#d8576b"
             ],
             [
              0.6666666666666666,
              "#ed7953"
             ],
             [
              0.7777777777777778,
              "#fb9f3a"
             ],
             [
              0.8888888888888888,
              "#fdca26"
             ],
             [
              1,
              "#f0f921"
             ]
            ],
            "type": "histogram2dcontour"
           }
          ],
          "mesh3d": [
           {
            "colorbar": {
             "outlinewidth": 0,
             "ticks": ""
            },
            "type": "mesh3d"
           }
          ],
          "parcoords": [
           {
            "line": {
             "colorbar": {
              "outlinewidth": 0,
              "ticks": ""
             }
            },
            "type": "parcoords"
           }
          ],
          "pie": [
           {
            "automargin": true,
            "type": "pie"
           }
          ],
          "scatter": [
           {
            "fillpattern": {
             "fillmode": "overlay",
             "size": 10,
             "solidity": 0.2
            },
            "type": "scatter"
           }
          ],
          "scatter3d": [
           {
            "line": {
             "colorbar": {
              "outlinewidth": 0,
              "ticks": ""
             }
            },
            "marker": {
             "colorbar": {
              "outlinewidth": 0,
              "ticks": ""
             }
            },
            "type": "scatter3d"
           }
          ],
          "scattercarpet": [
           {
            "marker": {
             "colorbar": {
              "outlinewidth": 0,
              "ticks": ""
             }
            },
            "type": "scattercarpet"
           }
          ],
          "scattergeo": [
           {
            "marker": {
             "colorbar": {
              "outlinewidth": 0,
              "ticks": ""
             }
            },
            "type": "scattergeo"
           }
          ],
          "scattergl": [
           {
            "marker": {
             "colorbar": {
              "outlinewidth": 0,
              "ticks": ""
             }
            },
            "type": "scattergl"
           }
          ],
          "scattermapbox": [
           {
            "marker": {
             "colorbar": {
              "outlinewidth": 0,
              "ticks": ""
             }
            },
            "type": "scattermapbox"
           }
          ],
          "scatterpolar": [
           {
            "marker": {
             "colorbar": {
              "outlinewidth": 0,
              "ticks": ""
             }
            },
            "type": "scatterpolar"
           }
          ],
          "scatterpolargl": [
           {
            "marker": {
             "colorbar": {
              "outlinewidth": 0,
              "ticks": ""
             }
            },
            "type": "scatterpolargl"
           }
          ],
          "scatterternary": [
           {
            "marker": {
             "colorbar": {
              "outlinewidth": 0,
              "ticks": ""
             }
            },
            "type": "scatterternary"
           }
          ],
          "surface": [
           {
            "colorbar": {
             "outlinewidth": 0,
             "ticks": ""
            },
            "colorscale": [
             [
              0,
              "#0d0887"
             ],
             [
              0.1111111111111111,
              "#46039f"
             ],
             [
              0.2222222222222222,
              "#7201a8"
             ],
             [
              0.3333333333333333,
              "#9c179e"
             ],
             [
              0.4444444444444444,
              "#bd3786"
             ],
             [
              0.5555555555555556,
              "#d8576b"
             ],
             [
              0.6666666666666666,
              "#ed7953"
             ],
             [
              0.7777777777777778,
              "#fb9f3a"
             ],
             [
              0.8888888888888888,
              "#fdca26"
             ],
             [
              1,
              "#f0f921"
             ]
            ],
            "type": "surface"
           }
          ],
          "table": [
           {
            "cells": {
             "fill": {
              "color": "#EBF0F8"
             },
             "line": {
              "color": "white"
             }
            },
            "header": {
             "fill": {
              "color": "#C8D4E3"
             },
             "line": {
              "color": "white"
             }
            },
            "type": "table"
           }
          ]
         },
         "layout": {
          "annotationdefaults": {
           "arrowcolor": "#2a3f5f",
           "arrowhead": 0,
           "arrowwidth": 1
          },
          "autotypenumbers": "strict",
          "coloraxis": {
           "colorbar": {
            "outlinewidth": 0,
            "ticks": ""
           }
          },
          "colorscale": {
           "diverging": [
            [
             0,
             "#8e0152"
            ],
            [
             0.1,
             "#c51b7d"
            ],
            [
             0.2,
             "#de77ae"
            ],
            [
             0.3,
             "#f1b6da"
            ],
            [
             0.4,
             "#fde0ef"
            ],
            [
             0.5,
             "#f7f7f7"
            ],
            [
             0.6,
             "#e6f5d0"
            ],
            [
             0.7,
             "#b8e186"
            ],
            [
             0.8,
             "#7fbc41"
            ],
            [
             0.9,
             "#4d9221"
            ],
            [
             1,
             "#276419"
            ]
           ],
           "sequential": [
            [
             0,
             "#0d0887"
            ],
            [
             0.1111111111111111,
             "#46039f"
            ],
            [
             0.2222222222222222,
             "#7201a8"
            ],
            [
             0.3333333333333333,
             "#9c179e"
            ],
            [
             0.4444444444444444,
             "#bd3786"
            ],
            [
             0.5555555555555556,
             "#d8576b"
            ],
            [
             0.6666666666666666,
             "#ed7953"
            ],
            [
             0.7777777777777778,
             "#fb9f3a"
            ],
            [
             0.8888888888888888,
             "#fdca26"
            ],
            [
             1,
             "#f0f921"
            ]
           ],
           "sequentialminus": [
            [
             0,
             "#0d0887"
            ],
            [
             0.1111111111111111,
             "#46039f"
            ],
            [
             0.2222222222222222,
             "#7201a8"
            ],
            [
             0.3333333333333333,
             "#9c179e"
            ],
            [
             0.4444444444444444,
             "#bd3786"
            ],
            [
             0.5555555555555556,
             "#d8576b"
            ],
            [
             0.6666666666666666,
             "#ed7953"
            ],
            [
             0.7777777777777778,
             "#fb9f3a"
            ],
            [
             0.8888888888888888,
             "#fdca26"
            ],
            [
             1,
             "#f0f921"
            ]
           ]
          },
          "colorway": [
           "#636efa",
           "#EF553B",
           "#00cc96",
           "#ab63fa",
           "#FFA15A",
           "#19d3f3",
           "#FF6692",
           "#B6E880",
           "#FF97FF",
           "#FECB52"
          ],
          "font": {
           "color": "#2a3f5f"
          },
          "geo": {
           "bgcolor": "white",
           "lakecolor": "white",
           "landcolor": "#E5ECF6",
           "showlakes": true,
           "showland": true,
           "subunitcolor": "white"
          },
          "hoverlabel": {
           "align": "left"
          },
          "hovermode": "closest",
          "mapbox": {
           "style": "light"
          },
          "paper_bgcolor": "white",
          "plot_bgcolor": "#E5ECF6",
          "polar": {
           "angularaxis": {
            "gridcolor": "white",
            "linecolor": "white",
            "ticks": ""
           },
           "bgcolor": "#E5ECF6",
           "radialaxis": {
            "gridcolor": "white",
            "linecolor": "white",
            "ticks": ""
           }
          },
          "scene": {
           "xaxis": {
            "backgroundcolor": "#E5ECF6",
            "gridcolor": "white",
            "gridwidth": 2,
            "linecolor": "white",
            "showbackground": true,
            "ticks": "",
            "zerolinecolor": "white"
           },
           "yaxis": {
            "backgroundcolor": "#E5ECF6",
            "gridcolor": "white",
            "gridwidth": 2,
            "linecolor": "white",
            "showbackground": true,
            "ticks": "",
            "zerolinecolor": "white"
           },
           "zaxis": {
            "backgroundcolor": "#E5ECF6",
            "gridcolor": "white",
            "gridwidth": 2,
            "linecolor": "white",
            "showbackground": true,
            "ticks": "",
            "zerolinecolor": "white"
           }
          },
          "shapedefaults": {
           "line": {
            "color": "#2a3f5f"
           }
          },
          "ternary": {
           "aaxis": {
            "gridcolor": "white",
            "linecolor": "white",
            "ticks": ""
           },
           "baxis": {
            "gridcolor": "white",
            "linecolor": "white",
            "ticks": ""
           },
           "bgcolor": "#E5ECF6",
           "caxis": {
            "gridcolor": "white",
            "linecolor": "white",
            "ticks": ""
           }
          },
          "title": {
           "x": 0.05
          },
          "xaxis": {
           "automargin": true,
           "gridcolor": "white",
           "linecolor": "white",
           "ticks": "",
           "title": {
            "standoff": 15
           },
           "zerolinecolor": "white",
           "zerolinewidth": 2
          },
          "yaxis": {
           "automargin": true,
           "gridcolor": "white",
           "linecolor": "white",
           "ticks": "",
           "title": {
            "standoff": 15
           },
           "zerolinecolor": "white",
           "zerolinewidth": 2
          }
         }
        }
       }
      }
     },
     "metadata": {},
     "output_type": "display_data"
    }
   ],
   "source": [
    "negative_draw = negative_summary_stats.copy()\n",
    "\n",
    "fig = px.pie(negative_draw, values='total_fluctuation_sum', names='sequence_length')\n",
    "fig.update_layout(\n",
    "    font=dict(family=\"SimHei\", size=15)\n",
    ")\n",
    "fig.show()"
   ]
  },
  {
   "cell_type": "markdown",
   "metadata": {},
   "source": [
    "# 第三章配置储能"
   ]
  },
  {
   "cell_type": "markdown",
   "metadata": {},
   "source": [
    "## 能量配置"
   ]
  },
  {
   "cell_type": "markdown",
   "metadata": {},
   "source": [
    "### 向上"
   ]
  },
  {
   "cell_type": "code",
   "execution_count": null,
   "metadata": {},
   "outputs": [],
   "source": [
    "def cal_total_optimized_energy(series):\n",
    "    series = np.array(series)\n",
    "    n = len(series)\n",
    "    total_energy = 0\n",
    "    for i in range(n):\n",
    "        energy = (n - i) * series[i]*0.25\n",
    "        total_energy += energy\n",
    "    return round(total_energy,0)\n",
    "\n",
    "df_positive_copy = data_anly.copy()\n",
    "mode = 'positive'\n",
    "if mode == 'positive':\n",
    "    df_positive_copy['is_positive'] = df_positive_copy['Fluctuation15M'] > 0\n",
    "    df_positive_copy['is_positive_above'] = df_positive_copy['Fluctuation15M'] > 50\n",
    "elif mode == 'negative':\n",
    "    df_positive_copy['is_positive'] = df_positive_copy['Fluctuation15M'] < 0\n",
    "    df_positive_copy['is_positive_above'] = df_positive_copy['Fluctuation15M'] < -50\n",
    "\n",
    "# 进行绝对值的处理\n",
    "df_positive_copy['Fluctuation15M'] = abs(df_positive_copy['Fluctuation15M'])\n",
    "\n",
    "# 检测连续正数序列的开始\n",
    "df_positive_copy['new_group'] = df_positive_copy['is_positive_above'] & (df_positive_copy['is_positive_above'] != df_positive_copy['is_positive_above'].shift(1))\n",
    "# 为每个连续正数序列分配一个唯一的标识\n",
    "df_positive_copy['group_id'] = df_positive_copy['new_group'].cumsum()\n",
    "# 仅选取正数进行分组和计数\n",
    "positive_sequences = df_positive_copy[df_positive_copy['is_positive_above']].groupby('group_id').size()\n",
    "# 首先对每个连续正数序列进行聚合计算，得到波动总值、平均值和最大值\n",
    "grouped_stats = df_positive_copy[df_positive_copy['is_positive_above']].groupby('group_id',group_keys=True)['above_line'].apply(cal_total_optimized_energy).reset_index()\n",
    "# grouped_stats_list = list(grouped_stats)\n",
    "# for i in grouped_stats_list[:50]:\n",
    "#     print(i)\n",
    "grouped_stats\n",
    "\n",
    "# 将原先计算的序列长度也加入统计表中\n",
    "grouped_stats['sequence_length'] = grouped_stats['group_id'].map(positive_sequences)\n",
    "optizmized_continuous_positive_energy = grouped_stats.groupby('sequence_length').agg({'above_line':[np.mean,np.max,lambda x:np.percentile(x,75)]})\n",
    "\n",
    "optizmized_continuous_positive_energy.to_csv('ch2_data/优化连续向上越限波动段至考核边界所需能量统计.csv')\n"
   ]
  },
  {
   "cell_type": "markdown",
   "metadata": {},
   "source": [
    "### 向下"
   ]
  },
  {
   "cell_type": "code",
   "execution_count": null,
   "metadata": {},
   "outputs": [],
   "source": [
    "\n",
    "\n",
    "df_positive_copy = data_anly.copy()\n",
    "mode = 'negative'\n",
    "if mode == 'positive':\n",
    "    df_positive_copy['is_positive'] = df_positive_copy['Fluctuation15M'] > 0\n",
    "    df_positive_copy['is_positive_above'] = df_positive_copy['Fluctuation15M'] > 50\n",
    "elif mode == 'negative':\n",
    "    df_positive_copy['is_positive'] = df_positive_copy['Fluctuation15M'] < 0\n",
    "    df_positive_copy['is_positive_above'] = df_positive_copy['Fluctuation15M'] < -50\n",
    "\n",
    "# 进行绝对值的处理\n",
    "df_positive_copy['Fluctuation15M'] = abs(df_positive_copy['Fluctuation15M'])\n",
    "\n",
    "# 检测连续正数序列的开始\n",
    "df_positive_copy['new_group'] = df_positive_copy['is_positive_above'] & (df_positive_copy['is_positive_above'] != df_positive_copy['is_positive_above'].shift(1))\n",
    "# 为每个连续正数序列分配一个唯一的标识\n",
    "df_positive_copy['group_id'] = df_positive_copy['new_group'].cumsum()\n",
    "# 仅选取正数进行分组和计数\n",
    "positive_sequences = df_positive_copy[df_positive_copy['is_positive_above']].groupby('group_id').size()\n",
    "# 首先对每个连续正数序列进行聚合计算，得到波动总值、平均值和最大值\n",
    "grouped_stats = df_positive_copy[df_positive_copy['is_positive_above']].groupby('group_id',group_keys=True)['above_line'].apply(cal_total_optimized_energy).reset_index()\n",
    "# grouped_stats_list = list(grouped_stats)\n",
    "# for i in grouped_stats_list[:50]:\n",
    "#     print(i)\n",
    "grouped_stats\n",
    "\n",
    "# 将原先计算的序列长度也加入统计表中\n",
    "grouped_stats['sequence_length'] = grouped_stats['group_id'].map(positive_sequences)\n",
    "optizmized_continuous_negative_energy = grouped_stats.groupby('sequence_length').agg({'above_line':[np.mean,np.max,lambda x:np.percentile(x,75)]})\n",
    "\n",
    "optizmized_continuous_negative_energy.to_csv('ch2_data/优化连续向下越限波动段至考核边界所需能量统计.csv')\n"
   ]
  },
  {
   "cell_type": "markdown",
   "metadata": {},
   "source": [
    "## 功率"
   ]
  },
  {
   "cell_type": "markdown",
   "metadata": {},
   "source": [
    "### 向上"
   ]
  },
  {
   "cell_type": "code",
   "execution_count": null,
   "metadata": {},
   "outputs": [],
   "source": [
    "def cal_total_optimized_power(series):\n",
    "    series = np.array(series)\n",
    "    n = len(series)\n",
    "    total_power = 0\n",
    "    last_power = 0\n",
    "    for i in range(n):\n",
    "        power = series[i]\n",
    "        last_power += power # 每一个越限波动相加\n",
    "    return last_power\n",
    "\n",
    "df_positive_copy = data_anly.copy()\n",
    "mode = 'positive'\n",
    "if mode == 'positive':\n",
    "    df_positive_copy['is_positive'] = df_positive_copy['Fluctuation15M'] > 0\n",
    "    df_positive_copy['is_positive_above'] = df_positive_copy['Fluctuation15M'] > 50\n",
    "elif mode == 'negative':\n",
    "    df_positive_copy['is_positive'] = df_positive_copy['Fluctuation15M'] < 0\n",
    "    df_positive_copy['is_positive_above'] = df_positive_copy['Fluctuation15M'] < -50\n",
    "\n",
    "# 进行绝对值的处理\n",
    "df_positive_copy['Fluctuation15M'] = abs(df_positive_copy['Fluctuation15M'])\n",
    "\n",
    "# 检测连续正数序列的开始\n",
    "df_positive_copy['new_group'] = df_positive_copy['is_positive_above'] & (df_positive_copy['is_positive_above'] != df_positive_copy['is_positive_above'].shift(1))\n",
    "# 为每个连续正数序列分配一个唯一的标识\n",
    "df_positive_copy['group_id'] = df_positive_copy['new_group'].cumsum()\n",
    "# 仅选取正数进行分组和计数\n",
    "positive_sequences = df_positive_copy[df_positive_copy['is_positive_above']].groupby('group_id').size()\n",
    "# 首先对每个连续正数序列进行聚合计算，得到波动总值、平均值和最大值\n",
    "grouped_stats = df_positive_copy[df_positive_copy['is_positive_above']].groupby('group_id',group_keys=True)['above_line'].apply(cal_total_optimized_power).reset_index()\n",
    "# grouped_stats_list = list(grouped_stats)\n",
    "# for i in grouped_stats_list[:50]:\n",
    "#     print(i)\n",
    "grouped_stats\n",
    "\n",
    "# 将原先计算的序列长度也加入统计表中\n",
    "grouped_stats['sequence_length'] = grouped_stats['group_id'].map(positive_sequences)\n",
    "optizmized_continuous_positive_power = grouped_stats.groupby('sequence_length').agg({'above_line':[np.mean,np.max,lambda x:np.percentile(x,75)]})\n",
    "\n",
    "optizmized_continuous_positive_power.to_csv('ch2_data/优化连续向上越限波动段至考核边界的最大出力功率.csv')"
   ]
  },
  {
   "cell_type": "markdown",
   "metadata": {},
   "source": [
    "### 向下"
   ]
  },
  {
   "cell_type": "code",
   "execution_count": null,
   "metadata": {},
   "outputs": [],
   "source": [
    "\n",
    "df_positive_copy = data_anly.copy()\n",
    "mode = 'negative'\n",
    "if mode == 'positive':\n",
    "    df_positive_copy['is_positive'] = df_positive_copy['Fluctuation15M'] > 0\n",
    "    df_positive_copy['is_positive_above'] = df_positive_copy['Fluctuation15M'] > 50\n",
    "elif mode == 'negative':\n",
    "    df_positive_copy['is_positive'] = df_positive_copy['Fluctuation15M'] < 0\n",
    "    df_positive_copy['is_positive_above'] = df_positive_copy['Fluctuation15M'] < -50\n",
    "\n",
    "# 进行绝对值的处理\n",
    "df_positive_copy['Fluctuation15M'] = abs(df_positive_copy['Fluctuation15M'])\n",
    "\n",
    "# 检测连续正数序列的开始\n",
    "df_positive_copy['new_group'] = df_positive_copy['is_positive_above'] & (df_positive_copy['is_positive_above'] != df_positive_copy['is_positive_above'].shift(1))\n",
    "# 为每个连续正数序列分配一个唯一的标识\n",
    "df_positive_copy['group_id'] = df_positive_copy['new_group'].cumsum()\n",
    "# 仅选取正数进行分组和计数\n",
    "positive_sequences = df_positive_copy[df_positive_copy['is_positive_above']].groupby('group_id').size()\n",
    "# 首先对每个连续正数序列进行聚合计算，得到波动总值、平均值和最大值\n",
    "grouped_stats = df_positive_copy[df_positive_copy['is_positive_above']].groupby('group_id',group_keys=True)['above_line'].apply(cal_total_optimized_power).reset_index()\n",
    "# grouped_stats_list = list(grouped_stats)\n",
    "# for i in grouped_stats_list[:50]:\n",
    "#     print(i)\n",
    "grouped_stats\n",
    "\n",
    "# 将原先计算的序列长度也加入统计表中\n",
    "grouped_stats['sequence_length'] = grouped_stats['group_id'].map(positive_sequences)\n",
    "optizmized_continuous_negative_power = grouped_stats.groupby('sequence_length').agg({'above_line':[np.mean,np.max,lambda x:np.percentile(x,75)]})\n",
    "\n",
    "optizmized_continuous_negative_power.to_csv('ch2_data/优化连续向下越限波动段至考核边界的最大出力功率.csv')"
   ]
  },
  {
   "cell_type": "code",
   "execution_count": null,
   "metadata": {},
   "outputs": [],
   "source": []
  }
 ],
 "metadata": {
  "kernelspec": {
   "display_name": "Python 3 (ipykernel)",
   "language": "python",
   "name": "python3"
  },
  "language_info": {
   "codemirror_mode": {
    "name": "ipython",
    "version": 3
   },
   "file_extension": ".py",
   "mimetype": "text/x-python",
   "name": "python",
   "nbconvert_exporter": "python",
   "pygments_lexer": "ipython3",
   "version": "3.11.4"
  }
 },
 "nbformat": 4,
 "nbformat_minor": 2
}
