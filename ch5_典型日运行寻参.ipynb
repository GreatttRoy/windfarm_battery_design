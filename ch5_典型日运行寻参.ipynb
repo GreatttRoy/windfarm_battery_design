{
 "cells": [
  {
   "cell_type": "code",
   "execution_count": 48,
   "metadata": {},
   "outputs": [
    {
     "data": {
      "text/html": [
       "<div>\n",
       "<style scoped>\n",
       "    .dataframe tbody tr th:only-of-type {\n",
       "        vertical-align: middle;\n",
       "    }\n",
       "\n",
       "    .dataframe tbody tr th {\n",
       "        vertical-align: top;\n",
       "    }\n",
       "\n",
       "    .dataframe thead th {\n",
       "        text-align: right;\n",
       "    }\n",
       "</style>\n",
       "<table border=\"1\" class=\"dataframe\">\n",
       "  <thead>\n",
       "    <tr style=\"text-align: right;\">\n",
       "      <th></th>\n",
       "      <th>Datetime</th>\n",
       "      <th>Measured &amp; Upscaled</th>\n",
       "      <th>Most recent forecast</th>\n",
       "      <th>Monitored capacity</th>\n",
       "      <th>ShiftMeasured</th>\n",
       "      <th>Fluctuation15M</th>\n",
       "      <th>PredFluctuation15M</th>\n",
       "      <th>ShiftFluctuation15M</th>\n",
       "    </tr>\n",
       "  </thead>\n",
       "  <tbody>\n",
       "    <tr>\n",
       "      <th>0</th>\n",
       "      <td>2022-01-01 00:00:00</td>\n",
       "      <td>1803.48</td>\n",
       "      <td>1881.52</td>\n",
       "      <td>2254.4</td>\n",
       "      <td>1803.48</td>\n",
       "      <td>0.00</td>\n",
       "      <td>78.04</td>\n",
       "      <td>0.00</td>\n",
       "    </tr>\n",
       "    <tr>\n",
       "      <th>1</th>\n",
       "      <td>2022-01-01 00:15:00</td>\n",
       "      <td>1962.39</td>\n",
       "      <td>1855.50</td>\n",
       "      <td>2254.4</td>\n",
       "      <td>1803.48</td>\n",
       "      <td>158.91</td>\n",
       "      <td>52.02</td>\n",
       "      <td>0.00</td>\n",
       "    </tr>\n",
       "    <tr>\n",
       "      <th>2</th>\n",
       "      <td>2022-01-01 00:30:00</td>\n",
       "      <td>1801.63</td>\n",
       "      <td>1823.16</td>\n",
       "      <td>2254.4</td>\n",
       "      <td>1962.39</td>\n",
       "      <td>-160.76</td>\n",
       "      <td>-139.23</td>\n",
       "      <td>158.91</td>\n",
       "    </tr>\n",
       "    <tr>\n",
       "      <th>3</th>\n",
       "      <td>2022-01-01 00:45:00</td>\n",
       "      <td>1824.41</td>\n",
       "      <td>1795.96</td>\n",
       "      <td>2254.4</td>\n",
       "      <td>1801.63</td>\n",
       "      <td>22.78</td>\n",
       "      <td>-5.67</td>\n",
       "      <td>-160.76</td>\n",
       "    </tr>\n",
       "    <tr>\n",
       "      <th>4</th>\n",
       "      <td>2022-01-01 01:00:00</td>\n",
       "      <td>1661.57</td>\n",
       "      <td>1779.28</td>\n",
       "      <td>2254.4</td>\n",
       "      <td>1824.41</td>\n",
       "      <td>-162.84</td>\n",
       "      <td>-45.13</td>\n",
       "      <td>22.78</td>\n",
       "    </tr>\n",
       "    <tr>\n",
       "      <th>...</th>\n",
       "      <td>...</td>\n",
       "      <td>...</td>\n",
       "      <td>...</td>\n",
       "      <td>...</td>\n",
       "      <td>...</td>\n",
       "      <td>...</td>\n",
       "      <td>...</td>\n",
       "      <td>...</td>\n",
       "    </tr>\n",
       "    <tr>\n",
       "      <th>35035</th>\n",
       "      <td>2022-12-31 22:45:00</td>\n",
       "      <td>2187.05</td>\n",
       "      <td>2133.89</td>\n",
       "      <td>2254.4</td>\n",
       "      <td>2177.33</td>\n",
       "      <td>9.72</td>\n",
       "      <td>-43.44</td>\n",
       "      <td>16.48</td>\n",
       "    </tr>\n",
       "    <tr>\n",
       "      <th>35036</th>\n",
       "      <td>2022-12-31 23:00:00</td>\n",
       "      <td>2177.68</td>\n",
       "      <td>2123.49</td>\n",
       "      <td>2254.4</td>\n",
       "      <td>2187.05</td>\n",
       "      <td>-9.37</td>\n",
       "      <td>-63.56</td>\n",
       "      <td>9.72</td>\n",
       "    </tr>\n",
       "    <tr>\n",
       "      <th>35037</th>\n",
       "      <td>2022-12-31 23:15:00</td>\n",
       "      <td>2180.85</td>\n",
       "      <td>2129.58</td>\n",
       "      <td>2254.4</td>\n",
       "      <td>2177.68</td>\n",
       "      <td>3.17</td>\n",
       "      <td>-48.10</td>\n",
       "      <td>-9.37</td>\n",
       "    </tr>\n",
       "    <tr>\n",
       "      <th>35038</th>\n",
       "      <td>2022-12-31 23:30:00</td>\n",
       "      <td>2177.87</td>\n",
       "      <td>2147.49</td>\n",
       "      <td>2254.4</td>\n",
       "      <td>2180.85</td>\n",
       "      <td>-2.98</td>\n",
       "      <td>-33.36</td>\n",
       "      <td>3.17</td>\n",
       "    </tr>\n",
       "    <tr>\n",
       "      <th>35039</th>\n",
       "      <td>2022-12-31 23:45:00</td>\n",
       "      <td>2162.12</td>\n",
       "      <td>2149.19</td>\n",
       "      <td>2254.4</td>\n",
       "      <td>2177.87</td>\n",
       "      <td>-15.75</td>\n",
       "      <td>0.00</td>\n",
       "      <td>-2.98</td>\n",
       "    </tr>\n",
       "  </tbody>\n",
       "</table>\n",
       "<p>35040 rows × 8 columns</p>\n",
       "</div>"
      ],
      "text/plain": [
       "                  Datetime  Measured & Upscaled  Most recent forecast  \\\n",
       "0      2022-01-01 00:00:00              1803.48               1881.52   \n",
       "1      2022-01-01 00:15:00              1962.39               1855.50   \n",
       "2      2022-01-01 00:30:00              1801.63               1823.16   \n",
       "3      2022-01-01 00:45:00              1824.41               1795.96   \n",
       "4      2022-01-01 01:00:00              1661.57               1779.28   \n",
       "...                    ...                  ...                   ...   \n",
       "35035  2022-12-31 22:45:00              2187.05               2133.89   \n",
       "35036  2022-12-31 23:00:00              2177.68               2123.49   \n",
       "35037  2022-12-31 23:15:00              2180.85               2129.58   \n",
       "35038  2022-12-31 23:30:00              2177.87               2147.49   \n",
       "35039  2022-12-31 23:45:00              2162.12               2149.19   \n",
       "\n",
       "       Monitored capacity  ShiftMeasured  Fluctuation15M  PredFluctuation15M  \\\n",
       "0                  2254.4        1803.48            0.00               78.04   \n",
       "1                  2254.4        1803.48          158.91               52.02   \n",
       "2                  2254.4        1962.39         -160.76             -139.23   \n",
       "3                  2254.4        1801.63           22.78               -5.67   \n",
       "4                  2254.4        1824.41         -162.84              -45.13   \n",
       "...                   ...            ...             ...                 ...   \n",
       "35035              2254.4        2177.33            9.72              -43.44   \n",
       "35036              2254.4        2187.05           -9.37              -63.56   \n",
       "35037              2254.4        2177.68            3.17              -48.10   \n",
       "35038              2254.4        2180.85           -2.98              -33.36   \n",
       "35039              2254.4        2177.87          -15.75                0.00   \n",
       "\n",
       "       ShiftFluctuation15M  \n",
       "0                     0.00  \n",
       "1                     0.00  \n",
       "2                   158.91  \n",
       "3                  -160.76  \n",
       "4                    22.78  \n",
       "...                    ...  \n",
       "35035                16.48  \n",
       "35036                 9.72  \n",
       "35037                -9.37  \n",
       "35038                 3.17  \n",
       "35039                -2.98  \n",
       "\n",
       "[35040 rows x 8 columns]"
      ]
     },
     "execution_count": 48,
     "metadata": {},
     "output_type": "execute_result"
    }
   ],
   "source": [
    "import pandas as pd\n",
    "import numpy as np\n",
    "from datetime import datetime, timezone\n",
    "from tqdm import tqdm\n",
    "import matplotlib.pyplot as plt\n",
    "import seaborn as sns\n",
    "import numpy as np\n",
    "# 导入docplex\n",
    "from docplex.mp.model import Model\n",
    "# 创建模型对象\n",
    "\n",
    "data_anly= pd.read_csv('data/data_cal.csv')\n",
    "data_anly"
   ]
  },
  {
   "cell_type": "code",
   "execution_count": 49,
   "metadata": {},
   "outputs": [],
   "source": [
    "param = {'ratio':0.1,\n",
    "         'C_C':0.1*2254.4,\n",
    "         'C_W':2254.4, # MW\n",
    "         'SOE_init':0.5*225.44,\n",
    "         'SOE_max':0.95*225.44,\n",
    "         'SOE_min':0.05*225.44,\n",
    "         'P_BSS_max':225.44,\n",
    "         'P_BSS_min':-225.44,\n",
    "         'PT10M':1/4,\n",
    "         'refine_power':50,\n",
    "         'slight_upward':6,# 向上波动四分位数\n",
    "         'slight_downward':-7, # 向下波动四分位数\n",
    "         'condition1':\"upward_fluctuation\",\n",
    "         'condition2':\"downward_fluctuation\",\n",
    "         'condition3':\"upward_slight_fluctuation\",\n",
    "         'condition4':\"downward_slight_fluctuation\",\n",
    "         'condition5':\"no_fluctuation\",\n",
    "         'nita_c': 0.932,\n",
    "         'nita_d': 0.932}\n"
   ]
  },
  {
   "cell_type": "code",
   "execution_count": 50,
   "metadata": {},
   "outputs": [],
   "source": [
    "\n",
    "def solver(P_W_list,n,M,mode,cap,power):\n",
    "    # 函数功能：求解最佳储能功率\n",
    "    # 函数输入: P_W_list风机功率列表，n为总步数，M为窗口宽度\n",
    "    # 函数输出：P_BSS_rolling储能滚动优化出力功率列表,E_rolling储能滚动优化能量状态列表\n",
    "    P_BSS_rolling = []\n",
    "    E_rolling = []\n",
    "    real_steps = n - M\n",
    "    P_optimize = P_W_list\n",
    "\n",
    "    # 添加约束\n",
    "    for real_step in tqdm(range(0, real_steps), desc='Optimizing'):\n",
    "        # print(f\"第{real_step+1}次滚动求解\")\n",
    "        sub_list = P_W_list[real_step:real_step+M]\n",
    "\n",
    "        # 新建求解模型\n",
    "        cplex_obj = Model()\n",
    "\n",
    "        # 限制变量范围\n",
    "        P_BSS = [cplex_obj.continuous_var(name='P_BSS[%d]' % i, lb=-power, ub=power) for i in range(M)]# P_c[i]意味着在第i步的充电功率 # 充放电功率的标签范围是0~n-1\n",
    "        z_c = [cplex_obj.binary_var(name='z_c[%d]' % i) for i in range(M)]# P_c[i]意味着在第i步的充电功率 # 充放电功率的标签范围是0~n-1\n",
    "        z_d = [cplex_obj.binary_var(name='z_d[%d]' % i) for i in range(M)]# P_c[i]意味着在第i步的充电功率 # 充放电功率的标签范围是0~n-1\n",
    "        P_BSS_plus = [cplex_obj.continuous_var(name='P_BSS_plus[%d]' % i, lb = 0, ub = power) for i in range(M)]# P_c[i]意味着在第i步的充电功率 # 充放电功率的标签范围是0~n-1\n",
    "        P_BSS_minus = [cplex_obj.continuous_var(name='P_BSS_minus[%d]' % i, lb = 0, ub = power) for i in range(M)]# P_c[i]意味着在第i步的充电功率 # 充放电功率的标签范围是0~n-1\n",
    "\n",
    "        # 创建由于从0到n-1有n个能量状态，所以有n-1条状态传递方程，还有对0状态的等式约束\n",
    "        \n",
    "        E = [cplex_obj.continuous_var(name='E[%d]' % i, lb=0.05*cap, ub=0.95*cap) for i in range(M)]\n",
    "        \n",
    "        # 确保 P_BSS_plus 和 P_BSS_minus 正确表示 P_BSS 的正负部分\n",
    "        for i in range(M): # param['P_BSS_max']\n",
    "            cplex_obj.add_constraint(P_BSS[i] == P_BSS_plus[i] - P_BSS_minus[i])\n",
    "            cplex_obj.add_constraint(P_BSS_plus[i] <= power * z_c[i])  # 当 z_c[i]=0 时，P_BSS_plus 必须为 0\n",
    "            cplex_obj.add_constraint(P_BSS_minus[i] <= power * z_d[i])  # 当 z_d[i]=0 时，P_BSS_minus 必须为 0\n",
    "            cplex_obj.add_constraint(z_c[i] + z_d[i] <= 1)  # 确保不同时为正负\n",
    "            \n",
    "        # 添加初始状态，以等式约束形式\n",
    "        if real_step == 0:\n",
    "            cplex_obj.add_constraint(E[0] == 0.5*cap) # ,param['SOE_init']\n",
    "            cplex_obj.add_constraint(P_BSS_plus[0] == 0) \n",
    "            cplex_obj.add_constraint(P_BSS_minus[0] == 0) \n",
    "            last_power = P_W_list[0]\n",
    "\n",
    "        else:\n",
    "            cplex_obj.add_constraint(E[0] == last_state[1] - P_BSS_plus[0]/0.932*(1/4) + P_BSS_minus[0]*0.932*(1/4))\n",
    "\n",
    "        # 等式约束\n",
    "        for l in range(0,M-1):\n",
    "            cplex_obj.add_constraint(E[l+1] == E[l] - P_BSS_plus[l+1]/0.932*(1/4) + P_BSS_minus[l+1]*0.932*(1/4)) # 电能量+是充电-是放电\n",
    "\n",
    "        # 计算波动\n",
    "        fluctuation = [((sub_list[i] + P_BSS_plus[i] - P_BSS_minus[i] ) - \n",
    "                (last_power if i == 0 else sub_list[i-1] + P_BSS_plus[i-1]- P_BSS_minus[i-1]))\n",
    "               for i in range(0, M)]\n",
    "        E_fluctuation = [(E[i]-E[i-1])for i in range(0, M)]\n",
    "        E_half_fluctuation = [(E[i]-0.5*cap)for i in range(0, M)]\n",
    "        # 计算波动的绝对值，并将其相加，作为目标函数\n",
    "        if mode == 'square':\n",
    "            objective_expr = cplex_obj.sum([fluctuation[i] * fluctuation[i]  for i in range(len(fluctuation))])\n",
    "        elif mode == 'abs':\n",
    "            objective_expr = cplex_obj.sum([cplex_obj.abs(fluctuation[i])  for i in range(len(fluctuation))])\n",
    "        elif mode == 'range':\n",
    "            objective_expr = cplex_obj.sum([cplex_obj.max( cplex_obj.abs(fluctuation[i])- 50,0)  for i in range(len(fluctuation))])\n",
    "        elif mode == 'abs_with_E':\n",
    "            objective_expr = cplex_obj.sum([0.7*cplex_obj.abs(fluctuation[i])+0.3*cplex_obj.abs(E_fluctuation[i])  for i in range(len(fluctuation))])\n",
    "            # objective_expr = cplex_obj.sum([cplex_obj.max( cplex_obj.abs(fluctuation[i])- 50,0)  for i in range(len(fluctuation))])\n",
    "        elif mode == 'abs_with_E0.5':\n",
    "            objective_expr = cplex_obj.sum([0.7*cplex_obj.abs(fluctuation[i])+0.3*cplex_obj.abs(E_half_fluctuation[i])  for i in range(len(fluctuation))])\n",
    "        elif mode == 'range_with_E0.5':\n",
    "            objective_expr = cplex_obj.sum([cplex_obj.max( cplex_obj.abs(fluctuation[i])- 50,0) +0.3*cplex_obj.abs(E_half_fluctuation[i]) for i in range(len(fluctuation))])\n",
    "\n",
    "        # 最大化目标函数\n",
    "        cplex_obj.minimize(objective_expr)\n",
    "\n",
    "        # cplex_obj.print_information()\n",
    "\n",
    "        # 求解优化问题\n",
    "        solution = cplex_obj.solve()\n",
    "        # 获取结果\n",
    "        if solution:\n",
    "            # print(f\"最优值为：{cplex_obj.objective_value:.2f}\")\n",
    "            p_bss_values = [round(P_BSS[i].solution_value,2) for i in range(M)]\n",
    "            \n",
    "            E_values = [round(E[i].solution_value,2) for i in range(M)]\n",
    "            last_power = P_W_list[real_step] + P_BSS[0].solution_value\n",
    "            last_state = [p_bss_values[0],E_values[0],last_power]\n",
    "\n",
    "            P_optimize[real_step] = round(last_power,2)\n",
    "\n",
    "            P_BSS_rolling.append(round(p_bss_values[0],2))\n",
    "            E_rolling.append(round(E_values[0],2))\n",
    "            # print(f'子序列为：{([P_optimize[0]] if real_step==0 else [P_optimize[real_step-1]])   +sub_list}')\n",
    "            # print(f\"P_BSS的取值为：{p_bss_values}\")\n",
    "            # print(f\"E的取值为：{E_values}\")\n",
    "            # print()\n",
    "        else:\n",
    "            print(\"求解失败\")\n",
    "    \n",
    "    return P_BSS_rolling,E_rolling"
   ]
  },
  {
   "cell_type": "code",
   "execution_count": 51,
   "metadata": {},
   "outputs": [],
   "source": [
    "import pandas as pd\n",
    "def generate_analyse_dataframe(datetime_list,P_list,p_bss_values,E_values):\n",
    "    # 函数功能：将数据列表转化为分析的数据表\n",
    "    # 函数输入：时间数据列（优化长度）、原功率数据列（优化长度）、储能功率数据列（优化长度）、能量数据列（优化长度）\n",
    "    # 列表转换为DataFrame\n",
    "    df_test = pd.DataFrame({\n",
    "        'Datetime':datetime_list,\n",
    "        'P_W_list': P_list,\n",
    "        'p_bss_values': p_bss_values,\n",
    "        'E':E_values\n",
    "    })\n",
    "    df_test['Datetime'] = pd.to_datetime(df_test['Datetime'])\n",
    "    df_test['P_W_shift'] = df_test['P_W_list'].shift(1)\n",
    "    df_test['P_W_shift'] = df_test['P_W_shift'].fillna(df_test['P_W_list'].iloc[0])# df_test['P_W_shift'].iloc[0]\n",
    "    df_test['original_flucuation'] = df_test['P_W_list'] - df_test['P_W_shift']\n",
    "\n",
    "    df_test['P_CW'] = df_test['P_W_list'] + df_test['p_bss_values']\n",
    "    df_test['P_CW_shift'] = df_test['P_CW'].shift(1)\n",
    "    df_test['P_CW_shift'] = df_test['P_CW_shift'].fillna(df_test['P_CW'].iloc[0])\n",
    "    df_test['after_flucuation'] = df_test['P_CW'] - df_test['P_CW_shift']\n",
    "\n",
    "    return df_test\n",
    "\n"
   ]
  },
  {
   "cell_type": "code",
   "execution_count": 52,
   "metadata": {},
   "outputs": [],
   "source": [
    "# 对运行结果数据集进行分析\n",
    "def analyse(df):\n",
    "    df_test = df.copy()\n",
    "    df_test['abs_original_flucuation'] = df_test['original_flucuation'].abs()\n",
    "    df_test['abs_after_flucuation'] = df_test['after_flucuation'].abs()\n",
    "\n",
    "    # 使用 apply 函数对元素进行条件判断和赋值\n",
    "    df_test['original_above'] = df_test['abs_original_flucuation'].apply(lambda x: x - 50 if x > 50 else 0)\n",
    "    df_test['after_above'] = df_test['abs_after_flucuation'].apply(lambda x: x - 50 if x > 50 else 0)\n",
    "\n",
    "    original_total_fluctuation = df_test['original_above'].sum()\n",
    "    after_total_fluctuation = df_test['after_above'].sum()\n",
    "\n",
    "    df_test['original_above_label'] = df_test['original_above'].apply(lambda x: 1 if x > 0 else 0)\n",
    "    df_test['after_above_label'] = df_test['after_above'].apply(lambda x: 1 if x > 0 else 0)\n",
    "    original_above_points = df_test['original_above_label'].sum()\n",
    "    after_above_points = df_test['after_above_label'].sum()\n",
    "\n",
    "    print(f'原波动率越限值求和值是{original_total_fluctuation}')\n",
    "    print(f'优化后的波动率越限值求和值是{after_total_fluctuation}')\n",
    "    print(f'原波动率越限点数是{original_above_points}')\n",
    "    print(f'优化后的波动率越限点数求和值是{after_above_points}')\n",
    "    \n",
    "    return original_total_fluctuation,after_total_fluctuation,original_above_points,after_above_points"
   ]
  },
  {
   "cell_type": "code",
   "execution_count": 53,
   "metadata": {},
   "outputs": [],
   "source": [
    "def gather_param_anly(param_name,param_list,original_fluc_rate_list,after_fluc_rate_list,original_fluc_points_list,after_fluc_points_list):\n",
    "    param_anly_df = pd.DataFrame({\n",
    "        f'{param_name}':param_list,\n",
    "        'original_fluc_rate':original_fluc_rate_list,\n",
    "        'after_fluc_rate': after_fluc_rate_list,\n",
    "        'original_fluc_points': original_fluc_points_list,\n",
    "        'after_fluc_points':after_fluc_points_list\n",
    "    })\n",
    "    return param_anly_df"
   ]
  },
  {
   "cell_type": "code",
   "execution_count": 54,
   "metadata": {},
   "outputs": [],
   "source": [
    "def optimize_by_date(df,datestr,M): # 修改输入数据集为往后延M个点，保证一天是动96个点\n",
    "    data_date = df.copy()\n",
    "    data_date['Datetime'] = pd.to_datetime(data_date['Datetime'])\n",
    "    target_date = pd.to_datetime(datestr).date()\n",
    "\n",
    "    # 选取指定日期数据集\n",
    "    target_date_df = data_date[data_date['Datetime'].dt.date == pd.to_datetime(target_date).date()]\n",
    "    # 选取指定日期及往后 M 个点的数据集\n",
    "    extra_df = data_date[data_date['Datetime'].dt.date > target_date][0:M]\n",
    "    # 合并两个数据集\n",
    "    target_df = pd.concat([target_date_df, extra_df], axis=0)\n",
    "\n",
    "    return target_df"
   ]
  },
  {
   "cell_type": "markdown",
   "metadata": {},
   "source": [
    "##  设计选择窗格、容量大小、功率大小的文件名字\n",
    "- 日期（先尝试日周期会不会出现明显效果）\n",
    "- 文件夹：日期\n",
    "- 文件名：date{}_width{}_cap{}_power{}_.csv\n"
   ]
  },
  {
   "cell_type": "code",
   "execution_count": 55,
   "metadata": {},
   "outputs": [
    {
     "name": "stdout",
     "output_type": "stream",
     "text": [
      "日期为2022-02-02\n",
      "方法为abs\n",
      "窗口长度为30\n"
     ]
    },
    {
     "name": "stderr",
     "output_type": "stream",
     "text": [
      "Optimizing: 100%|██████████| 96/96 [00:43<00:00,  2.23it/s]\n"
     ]
    },
    {
     "name": "stdout",
     "output_type": "stream",
     "text": [
      "原波动率越限值求和值是6081.0599999999995\n",
      "优化后的波动率越限值求和值是1969.4300000000003\n",
      "原波动率越限点数是57\n",
      "优化后的波动率越限点数求和值是17\n",
      "方法为range\n",
      "窗口长度为1\n"
     ]
    },
    {
     "name": "stderr",
     "output_type": "stream",
     "text": [
      "Optimizing: 100%|██████████| 96/96 [00:01<00:00, 50.93it/s]\n"
     ]
    },
    {
     "name": "stdout",
     "output_type": "stream",
     "text": [
      "原波动率越限值求和值是6081.0599999999995\n",
      "优化后的波动率越限值求和值是3784.390000000001\n",
      "原波动率越限点数是57\n",
      "优化后的波动率越限点数求和值是30\n",
      "方法为range\n",
      "窗口长度为30\n"
     ]
    },
    {
     "name": "stderr",
     "output_type": "stream",
     "text": [
      "Optimizing: 100%|██████████| 96/96 [00:35<00:00,  2.69it/s]\n"
     ]
    },
    {
     "name": "stdout",
     "output_type": "stream",
     "text": [
      "原波动率越限值求和值是6081.0599999999995\n",
      "优化后的波动率越限值求和值是854.2600000000014\n",
      "原波动率越限点数是57\n",
      "优化后的波动率越限点数求和值是17\n",
      "方法为range_with_E0.5\n",
      "窗口长度为30\n"
     ]
    },
    {
     "name": "stderr",
     "output_type": "stream",
     "text": [
      "Optimizing: 100%|██████████| 96/96 [02:03<00:00,  1.28s/it]\n"
     ]
    },
    {
     "name": "stdout",
     "output_type": "stream",
     "text": [
      "原波动率越限值求和值是6081.0599999999995\n",
      "优化后的波动率越限值求和值是2364.190000000002\n",
      "原波动率越限点数是57\n",
      "优化后的波动率越限点数求和值是25\n",
      "日期为2022-06-19\n",
      "方法为abs\n",
      "窗口长度为30\n"
     ]
    },
    {
     "name": "stderr",
     "output_type": "stream",
     "text": [
      "Optimizing: 100%|██████████| 96/96 [00:55<00:00,  1.73it/s]\n"
     ]
    },
    {
     "name": "stdout",
     "output_type": "stream",
     "text": [
      "原波动率越限值求和值是8202.630000000001\n",
      "优化后的波动率越限值求和值是1545.6200000000003\n",
      "原波动率越限点数是56\n",
      "优化后的波动率越限点数求和值是15\n",
      "方法为range\n",
      "窗口长度为1\n"
     ]
    },
    {
     "name": "stderr",
     "output_type": "stream",
     "text": [
      "Optimizing: 100%|██████████| 96/96 [00:00<00:00, 120.53it/s]\n"
     ]
    },
    {
     "name": "stdout",
     "output_type": "stream",
     "text": [
      "原波动率越限值求和值是8202.630000000001\n",
      "优化后的波动率越限值求和值是3136.9600000000014\n",
      "原波动率越限点数是56\n",
      "优化后的波动率越限点数求和值是27\n",
      "方法为range\n",
      "窗口长度为30\n"
     ]
    },
    {
     "name": "stderr",
     "output_type": "stream",
     "text": [
      "Optimizing: 100%|██████████| 96/96 [00:07<00:00, 13.70it/s]\n"
     ]
    },
    {
     "name": "stdout",
     "output_type": "stream",
     "text": [
      "原波动率越限值求和值是8202.630000000001\n",
      "优化后的波动率越限值求和值是166.31000000000142\n",
      "原波动率越限点数是56\n",
      "优化后的波动率越限点数求和值是17\n",
      "方法为range_with_E0.5\n",
      "窗口长度为30\n"
     ]
    },
    {
     "name": "stderr",
     "output_type": "stream",
     "text": [
      "Optimizing: 100%|██████████| 96/96 [01:28<00:00,  1.09it/s]\n"
     ]
    },
    {
     "name": "stdout",
     "output_type": "stream",
     "text": [
      "原波动率越限值求和值是8202.630000000001\n",
      "优化后的波动率越限值求和值是676.0000000000022\n",
      "原波动率越限点数是56\n",
      "优化后的波动率越限点数求和值是20\n",
      "日期为2022-09-18\n",
      "方法为abs\n",
      "窗口长度为30\n"
     ]
    },
    {
     "name": "stderr",
     "output_type": "stream",
     "text": [
      "Optimizing: 100%|██████████| 96/96 [03:02<00:00,  1.90s/it]\n"
     ]
    },
    {
     "name": "stdout",
     "output_type": "stream",
     "text": [
      "原波动率越限值求和值是3523.089999999999\n",
      "优化后的波动率越限值求和值是903.9399999999998\n",
      "原波动率越限点数是57\n",
      "优化后的波动率越限点数求和值是13\n",
      "方法为range\n",
      "窗口长度为1\n"
     ]
    },
    {
     "name": "stderr",
     "output_type": "stream",
     "text": [
      "Optimizing: 100%|██████████| 96/96 [00:01<00:00, 67.72it/s] \n"
     ]
    },
    {
     "name": "stdout",
     "output_type": "stream",
     "text": [
      "原波动率越限值求和值是3523.089999999999\n",
      "优化后的波动率越限值求和值是1059.1400000000008\n",
      "原波动率越限点数是57\n",
      "优化后的波动率越限点数求和值是16\n",
      "方法为range\n",
      "窗口长度为30\n"
     ]
    },
    {
     "name": "stderr",
     "output_type": "stream",
     "text": [
      "Optimizing: 100%|██████████| 96/96 [00:41<00:00,  2.31it/s]\n"
     ]
    },
    {
     "name": "stdout",
     "output_type": "stream",
     "text": [
      "原波动率越限值求和值是3523.089999999999\n",
      "优化后的波动率越限值求和值是1.8189894035458565e-12\n",
      "原波动率越限点数是57\n",
      "优化后的波动率越限点数求和值是9\n",
      "方法为range_with_E0.5\n",
      "窗口长度为30\n"
     ]
    },
    {
     "name": "stderr",
     "output_type": "stream",
     "text": [
      "Optimizing: 100%|██████████| 96/96 [03:02<00:00,  1.90s/it]\n"
     ]
    },
    {
     "name": "stdout",
     "output_type": "stream",
     "text": [
      "原波动率越限值求和值是3523.089999999999\n",
      "优化后的波动率越限值求和值是50.94000000000176\n",
      "原波动率越限点数是57\n",
      "优化后的波动率越限点数求和值是13\n",
      "日期为2022-12-07\n",
      "方法为abs\n",
      "窗口长度为30\n"
     ]
    },
    {
     "name": "stderr",
     "output_type": "stream",
     "text": [
      "Optimizing: 100%|██████████| 96/96 [01:57<00:00,  1.22s/it]\n"
     ]
    },
    {
     "name": "stdout",
     "output_type": "stream",
     "text": [
      "原波动率越限值求和值是7302.94\n",
      "优化后的波动率越限值求和值是101.63999999999999\n",
      "原波动率越限点数是60\n",
      "优化后的波动率越限点数求和值是3\n",
      "方法为range\n",
      "窗口长度为1\n"
     ]
    },
    {
     "name": "stderr",
     "output_type": "stream",
     "text": [
      "Optimizing: 100%|██████████| 96/96 [00:00<00:00, 96.12it/s] \n"
     ]
    },
    {
     "name": "stdout",
     "output_type": "stream",
     "text": [
      "原波动率越限值求和值是7302.94\n",
      "优化后的波动率越限值求和值是1132.1400000000012\n",
      "原波动率越限点数是60\n",
      "优化后的波动率越限点数求和值是20\n",
      "方法为range\n",
      "窗口长度为30\n"
     ]
    },
    {
     "name": "stderr",
     "output_type": "stream",
     "text": [
      "Optimizing: 100%|██████████| 96/96 [00:08<00:00, 11.54it/s]\n"
     ]
    },
    {
     "name": "stdout",
     "output_type": "stream",
     "text": [
      "原波动率越限值求和值是7302.94\n",
      "优化后的波动率越限值求和值是1.2505552149377763e-12\n",
      "原波动率越限点数是60\n",
      "优化后的波动率越限点数求和值是11\n",
      "方法为range_with_E0.5\n",
      "窗口长度为30\n"
     ]
    },
    {
     "name": "stderr",
     "output_type": "stream",
     "text": [
      "Optimizing: 100%|██████████| 96/96 [03:28<00:00,  2.17s/it]"
     ]
    },
    {
     "name": "stdout",
     "output_type": "stream",
     "text": [
      "原波动率越限值求和值是7302.94\n",
      "优化后的波动率越限值求和值是1.0231815394945443e-12\n",
      "原波动率越限点数是60\n",
      "优化后的波动率越限点数求和值是8\n"
     ]
    },
    {
     "name": "stderr",
     "output_type": "stream",
     "text": [
      "\n"
     ]
    }
   ],
   "source": [
    "df = data_anly.copy()\n",
    "datestr_list = ['2022-02-02','2022-06-19','2022-09-18','2022-12-07']\n",
    "cap = 0.3*2254.4\n",
    "power = 0.3*2254.4\n",
    "method_list = ['abs','range','range','range_with_E0.5']\n",
    "width_list = [30,1,30,30]\n",
    "\n",
    "for date_name in  datestr_list:\n",
    "    print(f\"日期为{date_name}\")\n",
    "    total_anly_route = f'ch5_data/analyse_by_date/{date_name}/{date_name}_total_anly.csv'\n",
    "    param_list = []\n",
    "    original_fluc_rate_list = []\n",
    "    after_fluc_rate_list = []\n",
    "    original_fluc_points_list = []\n",
    "    after_fluc_points_list = []\n",
    "\n",
    "    for i in range(len(method_list)):\n",
    "        method = method_list[i]\n",
    "        M = width_list[i]\n",
    "        print(f\"方法为{method}\")\n",
    "        param_list.append(M)\n",
    "        print(f\"窗口长度为{M}\")\n",
    "\n",
    "        result_file_route = f'ch5_data/analyse_by_date/{date_name}/{date_name}_{method}_{M}_anly.csv'  \n",
    "\n",
    "        target_df = optimize_by_date(df,date_name,M)\n",
    "\n",
    "        n = len(target_df)\n",
    "        P_W_list = \tlist(target_df['Measured & Upscaled']) # 获取solver的输入\n",
    "        p_bss_values,E_values = solver(P_W_list,n,M,method,cap,power) \n",
    "\n",
    "        datetime_list = list(target_df['Datetime'][:96]) \n",
    "        P_W_list_original = list(target_df['Measured & Upscaled'][:96])\n",
    "        df_test = generate_analyse_dataframe(datetime_list,P_W_list_original,p_bss_values,E_values)\n",
    "        original_total_fluctuation,after_total_fluctuation,original_above_points,after_above_points = analyse(df_test)\n",
    "\n",
    "        original_fluc_rate_list.append(original_total_fluctuation)\n",
    "        after_fluc_rate_list.append(after_total_fluctuation)\n",
    "        original_fluc_points_list.append(original_above_points)\n",
    "        after_fluc_points_list.append(after_above_points)\n",
    "        df_test.to_csv(result_file_route)\n",
    "\n",
    "    param_list = method_list\n",
    "\n",
    "    gather_param_df = gather_param_anly(method,param_list,original_fluc_rate_list,after_fluc_rate_list,original_fluc_points_list,after_fluc_points_list)\n",
    "    gather_param_df.to_csv(total_anly_route)\n",
    "\n",
    "\n"
   ]
  }
 ],
 "metadata": {
  "kernelspec": {
   "display_name": "base",
   "language": "python",
   "name": "python3"
  },
  "language_info": {
   "codemirror_mode": {
    "name": "ipython",
    "version": 3
   },
   "file_extension": ".py",
   "mimetype": "text/x-python",
   "name": "python",
   "nbconvert_exporter": "python",
   "pygments_lexer": "ipython3",
   "version": "3.11.4"
  }
 },
 "nbformat": 4,
 "nbformat_minor": 2
}
